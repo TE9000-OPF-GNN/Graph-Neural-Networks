{
 "cells": [
  {
   "cell_type": "markdown",
   "id": "c6f43819",
   "metadata": {},
   "source": [
    "### PowerFlow with GNN \n",
    "Simple network with 9 buses and PyPSA as comparison."
   ]
  },
  {
   "cell_type": "code",
   "execution_count": 19,
   "id": "286cfd65",
   "metadata": {},
   "outputs": [],
   "source": [
    "import pypsa\n",
    "import numpy as np\n",
    "import matplotlib.pyplot as plt\n",
    "import pandas as pd"
   ]
  },
  {
   "cell_type": "code",
   "execution_count": 20,
   "id": "c23d6b4a",
   "metadata": {},
   "outputs": [],
   "source": [
    "# In the official version generators are connected to bus 1, 2 and 3. \n",
    "# This is used as default, but can be changed by specifying bus numbers for each gen.\n",
    "\n",
    "def create_9_bus_network(gen_bus1=1, gen_bus2=2, gen_bus3=3,steps=5,p_set_gen2=163,p_set_gen3=85,plot=False):\n",
    "    network = pypsa.Network()\n",
    "    # Define five snapshots\n",
    "    snapshots = pd.date_range(\"2025-01-01 00:00\", periods=steps, freq=\"h\")\n",
    "    network.set_snapshots(snapshots)\n",
    "    \n",
    "    # Set base MVA\n",
    "    network.sbase = 100.0\n",
    "    \n",
    "    # IEEE 9-bus layout coordinates\n",
    "    bus_coordinates = {\n",
    "        1: (0, 0),      # Generator 1 (slack)\n",
    "        2: (4, 6),      # Generator 2\n",
    "        3: (-4, 6),      # Generator 3\n",
    "        4: (0, 2),     # Load bus\n",
    "        5: (-2, 4),     # Load bus\n",
    "        6: (-2, 6),    # Load bus\n",
    "        7: (0, 6),      # Load bus\n",
    "        8: (2, 6),      # Load bus\n",
    "        9: (2, 4)      # Load bus\n",
    "    }\n",
    "    \n",
    "    # Add buses with official IEEE data   \n",
    "    for i in range(1, 10):\n",
    "        bus_data = {\n",
    "            \"x\": bus_coordinates[i][0],\n",
    "            \"y\": bus_coordinates[i][1],\n",
    "            \"v_nom\": 24, #if i in [1,2,3] else 24,\n",
    "            \"v_mag_pu_set\": 1.04 if i == gen_bus1 else 1.025 if i in [gen_bus2,gen_bus3] else 1.0,\n",
    "            \"v_mag_pu_min\": 0.9,\n",
    "            \"v_mag_pu_max\": 1.1,\n",
    "            \"type\": \"Slack\" if i == gen_bus1 else \"PV\" if i in [gen_bus2,gen_bus3] else \"PQ\"\n",
    "            }\n",
    "        network.add(\"Bus\", f\"Bus {i}\", **bus_data)\n",
    "        \n",
    "        # Add loads with oscillating patterns\n",
    "        if i in [5, 7, 9]:\n",
    "            # Create base loads to generate varying load patterns\n",
    "            base_p = {5: 90, 7: 100, 9: 125}[i]\n",
    "            base_q = {5: 30, 7: 35, 9: 50}[i]\n",
    "            variation = 0.3  # 10% variation\n",
    "            #oscilation pattern based\n",
    "            # on node number\n",
    "            base_patterns = {5:np.array([1,0,1,0,-1]),\n",
    "                        7:np.array([0,1,1,-1,-1]),\n",
    "                        9: np.array([0,0,1,1,-1])}\n",
    "            patterns_df = pd.DataFrame({bus: create_pattern(pattern, len(snapshots)) \n",
    "                                        for bus, pattern in base_patterns.items()},\n",
    "                                       index=snapshots\n",
    "                                       )\n",
    "            # load is set as base plus/minus a variation of \n",
    "            load_p_set = base_p * (1 + variation * patterns_df[i])  # Oscillating pattern\n",
    "            load_q_set = base_q * (1 + variation * patterns_df[i])  # Oscillating pattern\n",
    "            \n",
    "            network.add(\"Load\", f\"Load {i}\", \n",
    "                bus=f\"Bus {i}\",\n",
    "                p_set=pd.Series(load_p_set, index=snapshots),\n",
    "                q_set=pd.Series(load_q_set, index=snapshots))\n",
    "    \n",
    "    ## Add Generators with official IEEE data\n",
    "    gen_data = [\n",
    "    {\"bus\": f\"Bus {gen_bus1}\",\"control\":\"Slack\",\n",
    "     \"p_nom\": 512*0.9,\n",
    "     \"p_min_pu\": 10/(512*0.9),\n",
    "     \"p_set\": pd.Series([0]*steps,index=snapshots),\n",
    "     #\"q_min_pu\":-0.5,\n",
    "     #\"q_max_pu\":0.5\n",
    "     },\n",
    "    {\"bus\": f\"Bus {gen_bus2}\", \"control\":\"PV\",\n",
    "     \"p_nom\": 270*0.85, \n",
    "     \"p_min_pu\": 10/(270*0.85),\n",
    "     \"p_set\": pd.Series([p_set_gen2]*steps, index=snapshots),\n",
    "     #\"q_min_pu\":-0.5,\n",
    "     #\"q_max_pu\":0.5\n",
    "     },\n",
    "    {\"bus\": f\"Bus {gen_bus3}\", \"control\":\"PV\",\n",
    "     \"p_nom\": 125*0.85, \n",
    "     \"p_min_pu\": 10/(125*0.85), \n",
    "     \"p_set\": pd.Series([p_set_gen3]*steps, index=snapshots),\n",
    "     #\"q_min_pu\":-0.5,\n",
    "     #\"q_max_pu\":0.5\n",
    "     }\n",
    "    ]\n",
    "    \n",
    "    for i, gen in enumerate(gen_data):\n",
    "        network.add(\"Generator\", f\"Gen {i+1}\", **gen)\n",
    "    \n",
    "    ## Add Lines and Transformers with official IEEE data (https://ijiset.com/vol2/v2s4/IJISET_V2_I4_68.pdf) Note, bus numbers are not the same as in source\n",
    "    branch_data = [\n",
    "        # [from_bus, to_bus, r, x, b, s_nom, tap_ratio] r and x are in pu units\n",
    "        [1, 4, 0.0000, 0.0576, 0.0000, 150, 1.0],#24/24],  # Transformer 1 (345/230 kV)\n",
    "        [4, 5, 0.0100, 0.0920, 0.1580, 100, 1.0],      # Line\n",
    "        [5, 6, 0.0390, 0.1700, 0.3580, 75, 1.0],      # Line\n",
    "        [3, 6, 0.0000, 0.0586, 0.0000, 150, 1.0],#18/24],  # Transformer 2 (345/230 kV)\n",
    "        [6, 7, 0.0119, 0.1008, 0.2090, 100, 1.0],      # Line\n",
    "        [7, 8, 0.0085, 0.0720, 0.1490, 100, 1.0],      # Line\n",
    "        [8, 2, 0.0000, 0.0625, 0.0000, 175, 1.0],#15,5/24],  # Transformer 3 (345/230 kV)\n",
    "        [9, 8, 0.0320, 0.1610, 0.3060, 100, 1.0],      # Line\n",
    "        [9, 4, 0.0100, 0.0850, 0.1760, 100, 1.0]       # Line\n",
    "        ]\n",
    "    \n",
    "    \"\"\"\n",
    "    # original branch data for reference\n",
    "    # [from_bus, to_bus, r, x, b, s_nom, tap_ratio] r and x are in pu units\n",
    "    [1, 4, 0.0000, 0.0576, 0.0000, 250, 1.0],#24/24], # Transformer 1 (345/230 kV)\n",
    "    [4, 5, 0.0100, 0.0920, 0.1580, 250, 1.0], # Line\n",
    "    [5, 6, 0.0390, 0.1700, 0.3580, 150, 1.0], # Line\n",
    "    [3, 6, 0.0000, 0.0586, 0.0000, 300, 1.0],#18/24], # Transformer 2 (345/230 kV)\n",
    "    [6, 7, 0.0119, 0.1008, 0.2090, 150, 1.0], # Line\n",
    "    [7, 8, 0.0085, 0.0720, 0.1490, 250, 1.0], # Line\n",
    "    [8, 2, 0.0000, 0.0625, 0.0000, 250, 1.0],#15,5/24], # Transformer 3 (345/230 kV)\n",
    "    [9, 8, 0.0320, 0.1610, 0.3060, 250, 1.0], # Line\n",
    "    [9, 4, 0.0100, 0.0850, 0.1760, 250, 1.0] # Line\n",
    "    \n",
    "    \"\"\"\n",
    "    \n",
    "    for i, branch in enumerate(branch_data):\n",
    "        f_bus, t_bus, r, x, b, rate, tap = branch\n",
    "        if tap != 1.0:  # Tap not equal to 1 indicates a transformer\n",
    "            network.add(\"Transformer\", f\"Transformer {i+1}\",\n",
    "                    bus0=f\"Bus {f_bus}\",\n",
    "                    bus1=f\"Bus {t_bus}\",\n",
    "                    r=r,\n",
    "                    x=x,\n",
    "                    b=b/2,\n",
    "                    s_nom=rate,\n",
    "                    tap_ratio=tap)\n",
    "        else:  # Tap equal to 1 indicates normal line (no transformer)\n",
    "            network.add(\"Line\", f\"Line {i+1}\",\n",
    "                    bus0=f\"Bus {f_bus}\",\n",
    "                    bus1=f\"Bus {t_bus}\",\n",
    "                    r=r,\n",
    "                    x=x,\n",
    "                    b=b/2,\n",
    "                    s_nom=rate\n",
    "                    )\n",
    "    \n",
    "    if plot:\n",
    "        plot_network(network)\n",
    "    return network\n",
    "\n",
    "#Helper function for load pattern:\n",
    "def create_pattern(base_pattern, num_steps):\n",
    "    \"\"\"\n",
    "    Creates a pattern using numpy's repeat function\n",
    "    Base pattern with 5 , modified to handle snapshots < 5 and snapshots > 5\n",
    "    \"\"\"\n",
    "    pattern_length = len(base_pattern)\n",
    "    repeats = np.ceil(num_steps / pattern_length).astype(int)\n",
    "    extended_pattern = np.repeat(base_pattern, repeats)\n",
    "    return extended_pattern[:num_steps]\n"
   ]
  },
  {
   "cell_type": "code",
   "execution_count": 21,
   "id": "38e2c73e",
   "metadata": {},
   "outputs": [],
   "source": [
    "#to plot the network this is called within the create_9_bus_network if plot=True\n",
    "#using first snapshot values \n",
    "def plot_network(n):\n",
    "    plt.figure(figsize=(12, 8))\n",
    "    title=\"IEEE \\n9-bus \\nSystem\"\n",
    "    plt.title(title,loc='left')\n",
    "    # Plot base network\n",
    "    n.plot(\n",
    "        bus_sizes=0.01,          \n",
    "        line_widths=2,          \n",
    "        bus_colors='red',       \n",
    "        line_colors='blue',     \n",
    "        margin=0.15,            \n",
    "        geomap=False           \n",
    "    )\n",
    "\n",
    "    # Add bus labels with nominal voltage\n",
    "    for bus in n.buses.index:\n",
    "        x = n.buses.x[bus]\n",
    "        y = n.buses.y[bus]\n",
    "        v_nom = n.buses.v_nom[bus]\n",
    "        bus_type = n.buses.type[bus]\n",
    "        plt.annotate(\n",
    "            f\"Bus {bus}\\n{v_nom}kV\\n{bus_type}\",\n",
    "            xy=(x, y),\n",
    "            xytext=(10, 10),\n",
    "            textcoords='offset points',\n",
    "            bbox=dict(facecolor='white', alpha=0.7),\n",
    "            fontsize=8\n",
    "        )\n",
    "\n",
    "    # Add generator labels with setpoints\n",
    "    for gen in n.generators.index:\n",
    "        bus = n.generators.bus[gen]\n",
    "        x = n.buses.x[bus]\n",
    "        y = n.buses.y[bus]\n",
    "        # Access first snapshot of p_set time series\n",
    "        p_set = n.generators_t.p_set[gen].iloc[0]\n",
    "        p_nom = n.generators.p_nom[gen]\n",
    "        plt.annotate(\n",
    "            f\"Gen {gen}\\nP={p_set:.1f}MW\\nPmax={p_nom:.1f}MW\",\n",
    "            xy=(x, y),\n",
    "            xytext=(-75, -40),\n",
    "            textcoords='offset points',\n",
    "            color='magenta',\n",
    "            bbox=dict(facecolor='white', alpha=0.7),\n",
    "            fontsize=8\n",
    "        )\n",
    "\n",
    "    # Add load labels with setpoints\n",
    "    for load in n.loads.index:\n",
    "        bus = n.loads.bus[load]\n",
    "        x = n.buses.x[bus]\n",
    "        y = n.buses.y[bus]\n",
    "        p = n.loads_t.p_set.loc[n.snapshots[0],load]\n",
    "        q = n.loads_t.q_set.loc[n.snapshots[0],load]\n",
    "        plt.annotate(\n",
    "            f\"Load {load}\\nP={p:.1f}MW\\nQ={q:.1f}MVAr\",\n",
    "            xy=(x, y),\n",
    "            xytext=(-60, 0),\n",
    "            textcoords='offset points',\n",
    "            color='brown',\n",
    "            bbox=dict(facecolor='white', alpha=0.7),\n",
    "            fontsize=8\n",
    "        )\n",
    "    #add S_nom labels for branches\n",
    "    for branch_type in ['Line','Transformer']:\n",
    "        for branch in getattr(n,branch_type.lower()+'s').index:\n",
    "            bus0=getattr(n,branch_type.lower()+'s').bus0[branch]\n",
    "            bus1=getattr(n,branch_type.lower()+'s').bus1[branch]\n",
    "            s_nom = getattr(n, branch_type.lower() + 's').s_nom[branch]\n",
    "            r=getattr(n,branch_type.lower()+'s').r[branch]\n",
    "            x_val=getattr(n,branch_type.lower()+'s').x[branch]\n",
    "            x0, y0 = n.buses.x[bus0], n.buses.y[bus0]\n",
    "            x1, y1 = n.buses.x[bus1], n.buses.y[bus1]\n",
    "            mid_x, mid_y = ((x0 + x1) / 2)-0.25, ((y0 + y1)/2)-0.5\n",
    "            plt.annotate(\n",
    "                f\"{s_nom:.1f}MVA \\n r={r:.4f}\\nx={x_val:.4f}\",\n",
    "                xy=(mid_x, mid_y),\n",
    "                xytext=(0, 10),\n",
    "                textcoords='offset points',\n",
    "                color='green',\n",
    "                bbox=dict(facecolor='white', alpha=0.7),\n",
    "                fontsize=8,\n",
    "                ha='center'\n",
    "            )\n",
    "\n",
    "    plt.grid(True)\n",
    "    plt.axis('equal')\n",
    "    \n",
    "    # Add legend\n",
    "    from matplotlib.lines import Line2D\n",
    "    legend_elements = [\n",
    "        Line2D([0], [0], marker='o', color='red', label='Buses', \n",
    "               markersize=8, linestyle='None'),\n",
    "        Line2D([0], [0], color='blue', label='Lines/Transformers', \n",
    "               linewidth=2),\n",
    "        Line2D([0], [0], marker='s', color='magenta', label='Generators',\n",
    "               markersize=8, linestyle='None'),\n",
    "        Line2D([0], [0], marker='s', color='brown', label='Loads',\n",
    "               markersize=8, linestyle='None')\n",
    "    ]\n",
    "    plt.legend(handles=legend_elements, loc='lower right')\n",
    "    plt.show()"
   ]
  },
  {
   "cell_type": "code",
   "execution_count": 22,
   "id": "ebf2a29f",
   "metadata": {},
   "outputs": [],
   "source": [
    "\n",
    "def model_results(n, print_results=False, plot_results=False):\n",
    "    #n.lpf()\n",
    "    n.pf(use_seed=True)\n",
    "    # Create DataFrame with bus results for all snapshots\n",
    "    bus_results = pd.DataFrame(\n",
    "        index=n.snapshots,\n",
    "        columns=pd.MultiIndex.from_product([\n",
    "            n.buses.index,\n",
    "            ['P (MW)', 'Q (MVAr)', 'V (pu)', 'Angle (deg)']\n",
    "        ])\n",
    "    )\n",
    "\n",
    "    # Fill results for each snapshot\n",
    "    for t in n.snapshots:\n",
    "        for bus in n.buses.index:\n",
    "            bus_results.loc[t, (bus, 'P (MW)')] = n.buses_t.p.loc[t, bus]\n",
    "            bus_results.loc[t, (bus, 'Q (MVAr)')] = n.buses_t.q.loc[t, bus]\n",
    "            bus_results.loc[t, (bus, 'V (pu)')] = n.buses_t.v_mag_pu.loc[t, bus]\n",
    "            bus_results.loc[t, (bus, 'Angle (deg)')] = n.buses_t.v_ang.loc[t, bus]\n",
    "    # Create DataFrame for line results\n",
    "    line_results = pd.DataFrame(\n",
    "        index=n.snapshots,\n",
    "        columns=pd.MultiIndex.from_product([\n",
    "            n.lines.index,\n",
    "            ['P0 (MW)', 'P1 (MW)', 'Q0 (MVAr)', 'Q1 (MVAr)']\n",
    "        ])\n",
    "    )\n",
    "\n",
    "    # Fill line results\n",
    "    for t in n.snapshots:\n",
    "        for line in n.lines.index:\n",
    "            line_results.loc[t, (line, 'P0 (MW)')] = n.lines_t.p0.loc[t, line]\n",
    "            line_results.loc[t, (line, 'P1 (MW)')] = n.lines_t.p1.loc[t, line]\n",
    "            line_results.loc[t, (line, 'Q0 (MVAr)')] = n.lines_t.q0.loc[t, line]\n",
    "            line_results.loc[t, (line, 'Q1 (MVAr)')] = n.lines_t.q1.loc[t, line]\n",
    "    \n",
    "    if print_results:\n",
    "        print(\"\\nBus Results:\") \n",
    "        print(bus_results)\n",
    "        print(\"\\nLine Results:\")\n",
    "        print(line_results)\n",
    "        #for s in results_df.index:\n",
    "        #    print(results_df.loc[s])\n",
    "    if plot_results:\n",
    "        plot_network_results(n, bus_results)\n",
    "        plot_line_results(n, line_results)\n",
    "\n",
    "    return bus_results, line_results\n",
    "\n",
    "def plot_network_results(network, results_df):\n",
    "    \"\"\"\n",
    "    Plot network results in 4 subplots: P, Q, V_mag, and V_ang with bus types in legend\n",
    "    \"\"\"\n",
    "    fig, (ax1, ax2, ax3, ax4) = plt.subplots(4, 1, figsize=(12, 10), sharex=True)\n",
    "    \n",
    "    # Get data for each bus\n",
    "    for bus in network.buses.index:\n",
    "        # Determine bus type for legend\n",
    "        if bus in network.loads.bus.values:\n",
    "            bus_type = f\"{bus} (Load)\"\n",
    "        elif bus in network.generators.bus.values:\n",
    "            gen_idx = network.generators[network.generators.bus == bus].index[0]\n",
    "            if network.generators.loc[gen_idx, 'control'] == 'Slack':\n",
    "                bus_type = f\"{bus} (Gen-Slack)\"\n",
    "            else:\n",
    "                bus_type = f\"{bus} (Gen-PV)\"\n",
    "        else:\n",
    "            bus_type = bus\n",
    "            \n",
    "        # Active Power (P)\n",
    "        ax1.plot(results_df.index, results_df[bus]['P (MW)'], marker='o', label=bus_type)\n",
    "        ax1.set_ylabel('P (MW)')\n",
    "        ax1.legend(bbox_to_anchor=(1.05, 1), loc='upper left')\n",
    "        ax1.grid(True)\n",
    "        \n",
    "        # Reactive Power (Q)\n",
    "        ax2.plot(results_df.index, results_df[bus]['Q (MVAr)'], marker='o', label=bus_type)\n",
    "        ax2.set_ylabel('Q (MVAr)')\n",
    "        ax2.legend(bbox_to_anchor=(1.05, 1), loc='upper left')\n",
    "        ax2.grid(True)\n",
    "        \n",
    "        # Voltage Magnitude\n",
    "        ax3.plot(results_df.index, results_df[bus]['V (pu)'], marker='o', label=bus_type)\n",
    "        ax3.set_ylabel('Voltage (p.u.)')\n",
    "        ax3.legend(bbox_to_anchor=(1.05, 1), loc='upper left')\n",
    "        ax3.grid(True)\n",
    "        \n",
    "        # Voltage Angle\n",
    "        ax4.plot(results_df.index, results_df[bus]['Angle (deg)'], marker='o', label=bus_type)\n",
    "        ax4.set_ylabel('Angle (degrees)')\n",
    "        ax4.set_xlabel('Time')\n",
    "        ax4.legend(bbox_to_anchor=(1.05, 1), loc='upper left')\n",
    "        ax4.grid(True)\n",
    "\n",
    "    plt.tight_layout()\n",
    "    plt.show()\n",
    "\n",
    "def plot_line_results(network, results_df):\n",
    "    \"\"\"\n",
    "    Plot line flow results with one subplot per line, showing P0/P1 and Q0/Q1\n",
    "    \"\"\"\n",
    "    n_lines = len(network.lines)\n",
    "    fig, axs = plt.subplots(n_lines, 2, figsize=(12, 2*n_lines), sharex=True)\n",
    "    \n",
    "    # Get data for each line\n",
    "    for i, line in enumerate(network.lines.index):\n",
    "        # Get from/to bus names for title\n",
    "        from_bus = network.lines.loc[line, 'bus0']\n",
    "        to_bus = network.lines.loc[line, 'bus1']\n",
    "        line_name = f\"{line} ({from_bus}->{to_bus})\"\n",
    "        \n",
    "        # Get S_nom for reference line\n",
    "        s_nom = network.lines.loc[line, 's_nom']\n",
    "        \n",
    "        # Active Power (P) - Left subplot\n",
    "        axs[i, 0].plot(results_df.index, results_df[line]['P0 (MW)'], marker='o', \n",
    "                label=f\"P-in (from {from_bus})\")\n",
    "        axs[i, 0].plot(results_df.index, -results_df[line]['P1 (MW)'], marker='s', \n",
    "                label=f\"P-out (to {to_bus})\")\n",
    "        # Add S_nom reference lines\n",
    "        axs[i, 0].axhline(y=s_nom, color='r', linestyle='--', \n",
    "                          label=f\"S_nom = {s_nom} MVA\")\n",
    "        axs[i, 0].axhline(y=-s_nom, color='r', linestyle='--', \n",
    "                          label=f\"S_nom = {-s_nom} MVA\")\n",
    "        axs[i, 0].set_ylabel('P (MW)')\n",
    "        axs[i, 0].set_title(f\"Active Power Flow - {line_name}\")\n",
    "        axs[i, 0].legend()\n",
    "        axs[i, 0].grid(True)\n",
    "        \n",
    "        # Reactive Power (Q) - Right subplot\n",
    "        axs[i, 1].plot(results_df.index, results_df[line]['Q0 (MVAr)'], marker='o', \n",
    "                label=f\"Q-in (from {from_bus})\")\n",
    "        axs[i, 1].plot(results_df.index, -results_df[line]['Q1 (MVAr)'], marker='s', \n",
    "                label=f\"Q-out(to {to_bus})\")\n",
    "        axs[i, 1].set_ylabel('Q (MVAr)')\n",
    "        axs[i, 1].set_title(f\"Reactive Power Flow - {line_name}\")\n",
    "        axs[i, 1].legend()\n",
    "        axs[i, 1].grid(True)\n",
    "        \n",
    "    # Add common x-axis label\n",
    "    fig.text(0.5, 0.04, 'Time', ha='center')\n",
    "    \n",
    "    plt.tight_layout()\n",
    "    plt.show()"
   ]
  },
  {
   "cell_type": "code",
   "execution_count": 25,
   "id": "44458a07",
   "metadata": {},
   "outputs": [],
   "source": [
    "\n",
    "def model_results(n, print_results=False, plot_results=False):\n",
    "    #n.lpf()\n",
    "    n.pf(use_seed=True)\n",
    "    # Create DataFrame with bus results for all snapshots\n",
    "    bus_results = pd.DataFrame(\n",
    "        index=n.snapshots,\n",
    "        columns=pd.MultiIndex.from_product([\n",
    "            n.buses.index,\n",
    "            ['P (MW)', 'Q (MVAr)', 'V (pu)', 'Angle (deg)']\n",
    "        ])\n",
    "    )\n",
    "\n",
    "    # Fill results for each snapshot\n",
    "    for t in n.snapshots:\n",
    "        for bus in n.buses.index:\n",
    "            bus_results.loc[t, (bus, 'P (MW)')] = n.buses_t.p.loc[t, bus]\n",
    "            bus_results.loc[t, (bus, 'Q (MVAr)')] = n.buses_t.q.loc[t, bus]\n",
    "            bus_results.loc[t, (bus, 'V (pu)')] = n.buses_t.v_mag_pu.loc[t, bus]\n",
    "            bus_results.loc[t, (bus, 'Angle (deg)')] = n.buses_t.v_ang.loc[t, bus]\n",
    "    # Create DataFrame for line results\n",
    "    line_results = pd.DataFrame(\n",
    "        index=n.snapshots,\n",
    "        columns=pd.MultiIndex.from_product([\n",
    "            n.lines.index,\n",
    "            ['P0 (MW)', 'P1 (MW)', 'Q0 (MVAr)', 'Q1 (MVAr)']\n",
    "        ])\n",
    "    )\n",
    "\n",
    "    # Fill line results\n",
    "    for t in n.snapshots:\n",
    "        for line in n.lines.index:\n",
    "            line_results.loc[t, (line, 'P0 (MW)')] = n.lines_t.p0.loc[t, line]\n",
    "            line_results.loc[t, (line, 'P1 (MW)')] = n.lines_t.p1.loc[t, line]\n",
    "            line_results.loc[t, (line, 'Q0 (MVAr)')] = n.lines_t.q0.loc[t, line]\n",
    "            line_results.loc[t, (line, 'Q1 (MVAr)')] = n.lines_t.q1.loc[t, line]\n",
    "    \n",
    "    if print_results:\n",
    "        print(\"\\nBus Results:\") \n",
    "        print(bus_results)\n",
    "        print(\"\\nLine Results:\")\n",
    "        print(line_results)\n",
    "        #for s in results_df.index:\n",
    "        #    print(results_df.loc[s])\n",
    "    if plot_results:\n",
    "        plot_network_results(n, bus_results)\n",
    "        plot_line_results(n, line_results)\n",
    "\n",
    "    return bus_results, line_results\n",
    "\n",
    "def plot_network_results(network, results_df):\n",
    "    \"\"\"\n",
    "    Plot network results in 4 subplots: P, Q, V_mag, and V_ang with bus types in legend\n",
    "    \"\"\"\n",
    "    fig, (ax1, ax2, ax3, ax4) = plt.subplots(4, 1, figsize=(12, 10), sharex=True)\n",
    "    \n",
    "    # Get data for each bus\n",
    "    for bus in network.buses.index:\n",
    "        # Determine bus type for legend\n",
    "        if bus in network.loads.bus.values:\n",
    "            bus_type = f\"{bus} (Load)\"\n",
    "        elif bus in network.generators.bus.values:\n",
    "            gen_idx = network.generators[network.generators.bus == bus].index[0]\n",
    "            if network.generators.loc[gen_idx, 'control'] == 'Slack':\n",
    "                bus_type = f\"{bus} (Gen-Slack)\"\n",
    "            else:\n",
    "                bus_type = f\"{bus} (Gen-PV)\"\n",
    "        else:\n",
    "            bus_type = bus\n",
    "            \n",
    "        # Active Power (P)\n",
    "        ax1.plot(results_df.index, results_df[bus]['P (MW)'], marker='o', label=bus_type)\n",
    "        ax1.set_ylabel('P (MW)')\n",
    "        ax1.legend(bbox_to_anchor=(1.05, 1), loc='upper left')\n",
    "        ax1.grid(True)\n",
    "        \n",
    "        # Reactive Power (Q)\n",
    "        ax2.plot(results_df.index, results_df[bus]['Q (MVAr)'], marker='o', label=bus_type)\n",
    "        ax2.set_ylabel('Q (MVAr)')\n",
    "        ax2.legend(bbox_to_anchor=(1.05, 1), loc='upper left')\n",
    "        ax2.grid(True)\n",
    "        \n",
    "        # Voltage Magnitude\n",
    "        ax3.plot(results_df.index, results_df[bus]['V (pu)'], marker='o', label=bus_type)\n",
    "        ax3.set_ylabel('Voltage (p.u.)')\n",
    "        ax3.legend(bbox_to_anchor=(1.05, 1), loc='upper left')\n",
    "        ax3.grid(True)\n",
    "        \n",
    "        # Voltage Angle\n",
    "        ax4.plot(results_df.index, results_df[bus]['Angle (deg)'], marker='o', label=bus_type)\n",
    "        ax4.set_ylabel('Angle (degrees)')\n",
    "        ax4.set_xlabel('Time')\n",
    "        ax4.legend(bbox_to_anchor=(1.05, 1), loc='upper left')\n",
    "        ax4.grid(True)\n",
    "\n",
    "    plt.tight_layout()\n",
    "    plt.show()\n",
    "\n",
    "def plot_line_results(network, results_df):\n",
    "    \"\"\"\n",
    "    Plot line flow results with one subplot per line, showing P0/P1 and Q0/Q1\n",
    "    \"\"\"\n",
    "    n_lines = len(network.lines)\n",
    "    fig, axs = plt.subplots(n_lines, 2, figsize=(12, 2*n_lines), sharex=True)\n",
    "    \n",
    "    # Get data for each line\n",
    "    for i, line in enumerate(network.lines.index):\n",
    "        # Get from/to bus names for title\n",
    "        from_bus = network.lines.loc[line, 'bus0']\n",
    "        to_bus = network.lines.loc[line, 'bus1']\n",
    "        line_name = f\"{line} ({from_bus}->{to_bus})\"\n",
    "        \n",
    "        # Get S_nom for reference line\n",
    "        s_nom = network.lines.loc[line, 's_nom']\n",
    "        \n",
    "        # Active Power (P) - Left subplot\n",
    "        axs[i, 0].plot(results_df.index, results_df[line]['P0 (MW)'], marker='o', \n",
    "                label=f\"P-in (from {from_bus})\")\n",
    "        axs[i, 0].plot(results_df.index, -results_df[line]['P1 (MW)'], marker='s', \n",
    "                label=f\"P-out (to {to_bus})\")\n",
    "        # Add S_nom reference lines\n",
    "        axs[i, 0].axhline(y=s_nom, color='r', linestyle='--', \n",
    "                          label=f\"S_nom = {s_nom} MVA\")\n",
    "        axs[i, 0].axhline(y=-s_nom, color='r', linestyle='--', \n",
    "                          label=f\"S_nom = {-s_nom} MVA\")\n",
    "        axs[i, 0].set_ylabel('P (MW)')\n",
    "        axs[i, 0].set_title(f\"Active Power Flow - {line_name}\")\n",
    "        axs[i, 0].legend()\n",
    "        axs[i, 0].grid(True)\n",
    "        \n",
    "        # Reactive Power (Q) - Right subplot\n",
    "        axs[i, 1].plot(results_df.index, results_df[line]['Q0 (MVAr)'], marker='o', \n",
    "                label=f\"Q-in (from {from_bus})\")\n",
    "        axs[i, 1].plot(results_df.index, -results_df[line]['Q1 (MVAr)'], marker='s', \n",
    "                label=f\"Q-out(to {to_bus})\")\n",
    "        axs[i, 1].set_ylabel('Q (MVAr)')\n",
    "        axs[i, 1].set_title(f\"Reactive Power Flow - {line_name}\")\n",
    "        axs[i, 1].legend()\n",
    "        axs[i, 1].grid(True)\n",
    "        \n",
    "    # Add common x-axis label\n",
    "    fig.text(0.5, 0.04, 'Time', ha='center')\n",
    "    \n",
    "    plt.tight_layout()\n",
    "    plt.show()"
   ]
  },
  {
   "cell_type": "code",
   "execution_count": null,
   "id": "6d7d7ff7",
   "metadata": {},
   "outputs": [],
   "source": [
    "n = create_9_bus_network(steps=15,p_set_gen2=170,p_set_gen3=100,plot=True) # create the network with input parameters"
   ]
  },
  {
   "cell_type": "code",
   "execution_count": null,
   "id": "f7c8047e",
   "metadata": {},
   "outputs": [],
   "source": [
    "bus_results,line_results=model_results(n,print_results=False, plot_results=True) # run the power flow and store results in dfs. Print if print_results = True, plot results if Plot=True"
   ]
  },
  {
   "cell_type": "code",
   "execution_count": null,
   "id": "58058d58",
   "metadata": {},
   "outputs": [],
   "source": [
    "\n",
    "import torch\n",
    "from torch_geometric.data import Data, Dataset\n",
    "import numpy as np\n",
    "import pandas as pd\n",
    "import pypsa\n",
    "\n",
    "class PowerFlowDataset(Dataset):\n",
    "    def __init__(self, networks, transform=None):\n",
    "        \"\"\"\n",
    "        Dataset for power flow prediction using PyTorch Geometric\n",
    "        \n",
    "        Args:\n",
    "            networks: List of PyPSA network objects with solved power flow\n",
    "        \"\"\"\n",
    "        super().__init__(transform=transform)\n",
    "        self.networks = networks\n",
    "        self.process_networks()\n",
    "        \n",
    "    def process_networks(self):\n",
    "        \"\"\"Pre-process networks to extract features and targets\"\"\"\n",
    "        self.processed_data = []\n",
    "        \n",
    "        for network in self.networks:\n",
    "            # Extract snapshot data\n",
    "            for t in network.snapshots:\n",
    "                # Create graph data for this snapshot\n",
    "                graph_data = self._create_graph_data(network, t)\n",
    "                self.processed_data.append(graph_data)\n",
    "                \n",
    "    def _create_graph_data(self, network, snapshot):\n",
    "        \"\"\"Convert PyPSA network at a snapshot to PyG Data object\"\"\"\n",
    "        num_buses = len(network.buses)\n",
    "        \n",
    "        # Node features: [bus_type, p, q, v_mag, v_ang]\n",
    "        \n",
    "        bus_types = np.zeros((num_buses, 3))\n",
    "        \n",
    "        # Extract bus data for this snapshot\n",
    "        p = network.buses_t.p.loc[snapshot].values\n",
    "        q = network.buses_t.q.loc[snapshot].values\n",
    "        v_mag = network.buses_t.v_mag_pu.loc[snapshot].values\n",
    "        v_ang = network.buses_t.v_ang.loc[snapshot].values\n",
    "        \n",
    "        # One-hot encode bus types: [is_slack, is_pv, is_pq]\n",
    "        for i, bus in enumerate(network.buses.index):\n",
    "            bus_type = network.buses.loc[bus, 'type']\n",
    "            if bus_type == 'Slack':\n",
    "                bus_types[i, 0] = 1  # Slack\n",
    "            elif bus_type == 'PV':\n",
    "                bus_types[i, 1] = 1  # PV\n",
    "            else:\n",
    "                bus_types[i, 2] = 1  # PQ\n",
    "        \n",
    "        # Combine features into a node feature tensor\n",
    "        # Note: bus_types is already a one-hot encoded matrix\n",
    "        node_features = np.column_stack([bus_types, p, q, v_mag, v_ang])\n",
    "        \n",
    "        # Creating the edge indices and attributes\n",
    "        edge_index = []\n",
    "        edge_attr = []\n",
    "        \n",
    "        # Process lines\n",
    "        for line_idx, line in network.lines.iterrows():\n",
    "            # Get bus indices\n",
    "            from_bus = int(line['bus0'].split()[-1]) - 1  # Convert 'Bus X' to index X-1\n",
    "            to_bus = int(line['bus1'].split()[-1]) - 1\n",
    "            \n",
    "            # Add edges in both directions (undirected graph)\n",
    "            edge_index.append([from_bus, to_bus])\n",
    "            edge_index.append([to_bus, from_bus])\n",
    "            \n",
    "            # Edge features: [r, x, b, s_nom]\n",
    "            edge_features = [line['r'], line['x'], line['b'], line['s_nom']]\n",
    "            edge_attr.append(edge_features)\n",
    "            edge_attr.append(edge_features)  # Same features for reverse direction\n",
    "        \n",
    "        # Process transformers if any\n",
    "        for trafo_idx, trafo in network.transformers.iterrows():\n",
    "            from_bus = int(trafo['bus0'].split()[-1]) - 1\n",
    "            to_bus = int(trafo['bus1'].split()[-1]) - 1\n",
    "            \n",
    "            edge_index.append([from_bus, to_bus])\n",
    "            edge_index.append([to_bus, from_bus])\n",
    "            \n",
    "            # Edge features: [r, x, b, s_nom, tap_ratio]\n",
    "            edge_features = [trafo['r'], trafo['x'], trafo['b'], trafo['s_nom'], trafo['tap_ratio']]\n",
    "            # We need to truncate the transformer features to the same number of features as lines   \n",
    "            # This is a workaround to ensure that the transformer features match the line features\n",
    "            if len(edge_features) > 4:\n",
    "                edge_features = edge_features[:4]  # Truncate to match line features\n",
    "            edge_attr.append(edge_features)\n",
    "            edge_attr.append(edge_features)\n",
    "        \n",
    "        # Target values: what we want to predict\n",
    "        # For PQ buses: predict v_mag, v_ang\n",
    "        # For PV buses: predict v_ang, q\n",
    "        # For Slack bus: predict p, q\n",
    "        target = np.zeros((num_buses, 4))  # [v_mag, v_ang, p, q]\n",
    "        \n",
    "        for i, bus in enumerate(network.buses.index):\n",
    "            bus_type = network.buses.loc[bus, 'type']\n",
    "            \n",
    "            if bus_type == 'PQ':\n",
    "                # For PQ buses, predict voltage magnitude and angle\n",
    "                target[i, 0] = v_mag[i]  # v_mag\n",
    "                target[i, 1] = v_ang[i]  # v_ang\n",
    "            elif bus_type == 'PV':\n",
    "                # For PV buses, predict angle and reactive power\n",
    "                target[i, 1] = v_ang[i]  # v_ang\n",
    "                target[i, 2] = q[i]      # q\n",
    "            else:  # Slack\n",
    "                # For slack bus, predict active and reactive power\n",
    "                target[i, 2] = p[i]      # p\n",
    "                target[i, 3] = q[i]      # q\n",
    "        \n",
    "        # Convert to PyTorch tensors to create Data object\n",
    "        # Note: PyTorch Geometric expects edge_index to be in COO format (2D tensor)\n",
    "        # Convert edge_index to a 2D tensor\n",
    "        x = torch.tensor(node_features, dtype=torch.float)\n",
    "        # Contigous is used to ensure that the tensor is stored in contiguous memory for faster access\n",
    "        edge_index = torch.tensor(edge_index, dtype=torch.long).t().contiguous() # Transpose to COO format which means basically a 2D tensor\n",
    "        edge_attr = torch.tensor(edge_attr, dtype=torch.float)\n",
    "        y = torch.tensor(target, dtype=torch.float)\n",
    "        \n",
    "        # Create masks for different bus types, masks are used to filter out the bus types\n",
    "        slack_mask = torch.tensor(bus_types[:, 0].astype(bool))\n",
    "        pv_mask = torch.tensor(bus_types[:, 1].astype(bool))\n",
    "        pq_mask = torch.tensor(bus_types[:, 2].astype(bool))\n",
    "        \n",
    "        return Data(\n",
    "            x=x,\n",
    "            edge_index=edge_index,\n",
    "            edge_attr=edge_attr,\n",
    "            y=y,\n",
    "            slack_mask=slack_mask,\n",
    "            pv_mask=pv_mask,\n",
    "            pq_mask=pq_mask\n",
    "        )\n",
    "    \n",
    "    def len(self):\n",
    "        return len(self.processed_data)\n",
    "    \n",
    "    def get(self, idx):\n",
    "        return self.processed_data[idx]\n"
   ]
  },
  {
   "cell_type": "code",
   "execution_count": null,
   "id": "85a16af1",
   "metadata": {},
   "outputs": [],
   "source": [
    "# THe model is a simple GNN with 3 layers and 4 heads, using GATv2Conv for graph convolution\n",
    "# and GCNConv for the final output layer. The model predicts voltage magnitude, angle, active power, and reactive power.\n",
    "import torch\n",
    "import torch.nn as nn\n",
    "import torch.nn.functional as F\n",
    "from torch_geometric.nn import GATv2Conv, GCNConv\n",
    "\n",
    "class PowerFlowGNN(nn.Module):\n",
    "    def __init__(self, node_features=8, edge_features=4, hidden_dim=64, num_layers=3):\n",
    "        #Node features  [is_slack, is_pv, is_pq, p, q, v_mag, v_ang] which is only 7, but 8 is used as default for simplicity \n",
    "        # edge features [r, x, b, s_nom] which is 4 (here we are not using tap_ratio)\n",
    "        # hidden_dim is the dimension of the hidden layers set to 64 which means 64 neurons in each layer\n",
    "        super().__init__()\n",
    "        \n",
    "        # Initial node embedding\n",
    "        self.node_embedding = nn.Linear(node_features, hidden_dim) # here node_features are embedded to hidden_dim to get the initial node features\n",
    "        \n",
    "        # Graph convolution layers\n",
    "        self.convs = nn.ModuleList() # module list is used to store the layers\n",
    "        for _ in range(num_layers):    #  looping through the number of layers to create the layers and append them to the list\n",
    "            self.convs.append(GATv2Conv(\n",
    "                in_channels=hidden_dim, # input channels are hidden_dim because the output of the previous layer is the input to the next layer\n",
    "                out_channels=hidden_dim, # output channels are also hidden_dim to maintain the same dimensionality across layers\n",
    "                edge_dim=edge_features, # edge features are used to create the edge features for the graph convolution\n",
    "                heads=4,    # create 4 different attention heads for the graph convolution, one for each layer. The purpose of the attention heads is to create different attention weights for the edges in the graph. this enables the model to capture different relationships between the nodes in the graph.\n",
    "                concat=False # this is set to false to concatenate the output of the attention heads, which means that the output of the attention heads is averaged instead of concatenated\n",
    "            ))\n",
    "        \n",
    "        # Output layers for different predictions which one prediction head for each of the properties we want to predict\n",
    "        self.v_mag_pred = nn.Linear(hidden_dim, 1)  # Voltage magnitude\n",
    "        self.v_ang_pred = nn.Linear(hidden_dim, 1)  # Voltage angle\n",
    "        self.p_pred = nn.Linear(hidden_dim, 1)      # Active power\n",
    "        self.q_pred = nn.Linear(hidden_dim, 1)      # Reactive power\n",
    "        \n",
    "    def forward(self, data): # Forward pass for the model where the features are embedded first, then processed through the graph convolution layers, and finally the predictions are made\n",
    "        x, edge_index, edge_attr = data.x, data.edge_index, data.edge_attr\n",
    "        \n",
    "        # Initial embedding\n",
    "        x = self.node_embedding(x) # the node features are embedded to hidden_dim\n",
    "        x = F.leaky_relu(x) # the activation function used is leaky relu which is a variant of relu that allows a small gradient when the input is negative. \n",
    "        \n",
    "        # Graph convolution layers \n",
    "        # The basic idea of convolution is to apply a filter to the input data to extract features. \n",
    "        # The filter is applied to the input data in a sliding window fashion, which means that the filter is applied to a small portion of the input data at a time. \n",
    "        # This is done by moving the filter across the input data in small steps, which is called the stride. \n",
    "        #We then end up with a new set of features that are the result of applying the filter to the input data. \n",
    "        # The output of the convolution is then passed through an activation function, which introduces non-linearity into the model. \n",
    "        # This is done to allow the model to learn complex relationships between the input data and the output data.\n",
    "        for conv in self.convs: # conv is the module list that contains the graph convolution layers (as declared at the start of the class)\n",
    "            x = conv(x, edge_index, edge_attr) # the graph convolution layer is applied to the input data. We use GATv2Conv which applies the graph convolution to the input data and returns the output data.\n",
    "            x = F.leaky_relu(x) # # The output of the graph convolution layer is then passed through an activation function. F is the functional module in pytorch that contains the activation functions.\n",
    "        \n",
    "        # Predictions are made using the output of the last graph convolution layer\n",
    "        v_mag = self.v_mag_pred(x).squeeze(-1) #squeeze is used to remove the last dimension of the tensor which is 1 in this case. This is done to make the output tensor of shape (batch_size, num_nodes) instead of (batch_size, num_nodes, 1)\n",
    "        v_ang = self.v_ang_pred(x).squeeze(-1)\n",
    "        p = self.p_pred(x).squeeze(-1)\n",
    "        q = self.q_pred(x).squeeze(-1)\n",
    "        \n",
    "        # Apply physics constraints based on bus type\n",
    "        # For PQ buses: predict v_mag, v_ang\n",
    "        # For PV buses: use known v_mag, predict v_ang, q\n",
    "        # For Slack bus: use known v_mag, v_ang, predict p, q\n",
    "        \n",
    "        # Create output tensor\n",
    "        output = torch.zeros_like(data.y)\n",
    "        \n",
    "        # Fill in predictions based on bus type\n",
    "        # PQ buses: predict v_mag, v_ang\n",
    "        output[data.pq_mask, 0] = v_mag[data.pq_mask]  # v_mag\n",
    "        output[data.pq_mask, 1] = v_ang[data.pq_mask]  # v_ang\n",
    "        \n",
    "        # PV buses: use known v_mag (from input), predict v_ang, q\n",
    "        output[data.pv_mask, 1] = v_ang[data.pv_mask]  # v_ang\n",
    "        output[data.pv_mask, 3] = q[data.pv_mask]      # q\n",
    "        \n",
    "        # Slack bus: use known v_mag, v_ang (from input), predict p, q\n",
    "        output[data.slack_mask, 2] = p[data.slack_mask]  # p\n",
    "        output[data.slack_mask, 3] = q[data.slack_mask]  # q\n",
    "        \n",
    "        return output\n"
   ]
  },
  {
   "cell_type": "code",
   "execution_count": 32,
   "id": "df31c3da",
   "metadata": {},
   "outputs": [],
   "source": [
    "import torch\n",
    "from torch_geometric.loader import DataLoader\n",
    "import matplotlib.pyplot as plt\n",
    "from tqdm import tqdm\n",
    "\n",
    "def train_power_flow_gnn(networks, num_epochs=200, batch_size=32, lr=0.001):\n",
    "    # Create dataset\n",
    "    dataset = PowerFlowDataset(networks)\n",
    "    \n",
    "    # Split into train/val/test\n",
    "    train_size = int(0.7 * len(dataset))\n",
    "    val_size = int(0.15 * len(dataset))\n",
    "    test_size = len(dataset) - train_size - val_size\n",
    "    \n",
    "    train_dataset, val_dataset, test_dataset = torch.utils.data.random_split(\n",
    "        dataset, [train_size, val_size, test_size])\n",
    "    \n",
    "    # Create data loaders\n",
    "    train_loader = DataLoader(train_dataset, batch_size=batch_size, shuffle=True)\n",
    "    val_loader = DataLoader(val_dataset, batch_size=batch_size)\n",
    "    test_loader = DataLoader(test_dataset, batch_size=batch_size)\n",
    "    \n",
    "    # Initialize model\n",
    "    model = PowerFlowGNN(\n",
    "        node_features=dataset[0].x.size(1),\n",
    "        edge_features=dataset[0].edge_attr.size(1),\n",
    "        hidden_dim=64,\n",
    "        num_layers=3\n",
    "    )\n",
    "    \n",
    "    # Optimizer\n",
    "    optimizer = torch.optim.Adam(model.parameters(), lr=lr)\n",
    "    scheduler = torch.optim.lr_scheduler.ReduceLROnPlateau(\n",
    "        optimizer, mode='min', factor=0.5, patience=10)\n",
    "    \n",
    "    # Training loop\n",
    "    train_losses = []\n",
    "    val_losses = []\n",
    "    \n",
    "    for epoch in range(num_epochs):\n",
    "        # Training\n",
    "        model.train()\n",
    "        epoch_loss = 0\n",
    "        \n",
    "        for batch in tqdm(train_loader, desc=f\"Epoch {epoch+1}/{num_epochs}\"):\n",
    "            optimizer.zero_grad()\n",
    "            \n",
    "            # Forward pass\n",
    "            pred = model(batch)\n",
    "            \n",
    "            # Compute loss\n",
    "            loss, _, _ = physics_informed_loss(\n",
    "                pred, batch.y, batch, networks[0], 0)  # Using first network for Y matrix\n",
    "            \n",
    "            # Backward pass\n",
    "            loss.backward()\n",
    "            optimizer.step()\n",
    "            \n",
    "            epoch_loss += loss.item()\n",
    "        \n",
    "        train_loss = epoch_loss / len(train_loader)\n",
    "        train_losses.append(train_loss)\n",
    "        \n",
    "        # Validation\n",
    "        model.eval()\n",
    "        val_loss = 0\n",
    "        \n",
    "        with torch.no_grad():\n",
    "            for batch in val_loader:\n",
    "                pred = model(batch)\n",
    "                loss, _, _ = physics_informed_loss(\n",
    "                    pred, batch.y, batch, networks[0], 0)\n",
    "                val_loss += loss.item()\n",
    "        \n",
    "        val_loss = val_loss / len(val_loader)\n",
    "        val_losses.append(val_loss)\n",
    "        \n",
    "        # Update learning rate\n",
    "        scheduler.step(val_loss)\n",
    "        \n",
    "        # Print progress\n",
    "        print(f\"Epoch {epoch+1}/{num_epochs}, \"\n",
    "              f\"Train Loss: {train_loss:.6f}, \"\n",
    "              f\"Val Loss: {val_loss:.6f}, \"\n",
    "              f\"LR: {optimizer.param_groups[0]['lr']:.6f}\")\n",
    "    \n",
    "    # Plot training curve\n",
    "    plt.figure(figsize=(10, 6))\n",
    "    plt.plot(train_losses, label='Training Loss')\n",
    "    plt.plot(val_losses, label='Validation Loss')\n",
    "    plt.xlabel('Epoch')\n",
    "    plt.ylabel('Loss')\n",
    "    plt.title('Training and Validation Loss')\n",
    "    plt.legend()\n",
    "    plt.grid(True)\n",
    "    plt.show()\n",
    "    \n",
    "    # Evaluate on test set\n",
    "    model.eval()\n",
    "    test_loss = 0\n",
    "    mse_loss_total = 0\n",
    "    physics_loss_total = 0\n",
    "    \n",
    "    with torch.no_grad():\n",
    "        for batch in test_loader:\n",
    "            pred = model(batch)\n",
    "            loss, mse, physics = physics_informed_loss(\n",
    "                pred, batch.y, batch, networks[0], 0)\n",
    "            test_loss += loss.item()\n",
    "            mse_loss_total += mse.item()\n",
    "            physics_loss_total += physics.item()\n",
    "    \n",
    "    test_loss = test_loss / len(test_loader)\n",
    "    mse_loss_avg = mse_loss_total / len(test_loader)\n",
    "    physics_loss_avg = physics_loss_total / len(test_loader)\n",
    "    \n",
    "    print(f\"Test Loss: {test_loss:.6f}\")\n",
    "    print(f\"MSE Loss: {mse_loss_avg:.6f}\")\n",
    "    print(f\"Physics Loss: {physics_loss_avg:.6f}\")\n",
    "    \n",
    "    return model, (train_losses, val_losses)\n"
   ]
  },
  {
   "cell_type": "code",
   "execution_count": null,
   "id": "59c990a8",
   "metadata": {},
   "outputs": [],
   "source": [
    "def physics_informed_loss(pred, target, data, network, snapshot_idx):\n",
    "    \"\"\"\n",
    "    Physics-informed loss function that combines:\n",
    "    1. MSE loss between predictions and targets\n",
    "    2. Power balance constraints from Kirchhoff's laws\n",
    "    \"\"\"\n",
    "    # Data-driven MSE loss\n",
    " \n",
    "    mse_loss = 0.0\n",
    "    \n",
    "    # Only compute loss for values we're trying to predict\n",
    "    # For PQ buses: v_mag, v_ang\n",
    "    pq_mask = data.pq_mask # t\n",
    "    if pq_mask.any():\n",
    "        mse_loss += F.mse_loss(pred[pq_mask, :2], target[pq_mask, :2])\n",
    "    \n",
    "    # For PV buses: v_ang, q\n",
    "    pv_mask = data.pv_mask\n",
    "    if pv_mask.any():\n",
    "        mse_loss += F.mse_loss(pred[pv_mask, 1], target[pv_mask, 1])  # v_ang\n",
    "        mse_loss += F.mse_loss(pred[pv_mask, 3], target[pv_mask, 3])  # q\n",
    "    \n",
    "    # For Slack bus: p, q\n",
    "    slack_mask = data.slack_mask\n",
    "    if slack_mask.any():\n",
    "        mse_loss += F.mse_loss(pred[slack_mask, 2:], target[slack_mask, 2:])\n",
    "    \n",
    "    # Physics-based power balance constraints\n",
    "    # Extract predicted values\n",
    "    v_mag = torch.zeros(pred.size(0)) # creating an initial tensor of zeros with the same size as the prediction tensor\n",
    "    v_ang = torch.zeros(pred.size(0))\n",
    "    p = torch.zeros(pred.size(0))\n",
    "    q = torch.zeros(pred.size(0))\n",
    "    \n",
    "    # Based on node_features structure:\n",
    "    # x = [bus_type_one_hot (3 dims), p, q, v_mag, v_ang]\n",
    "    # Indices are: p=3, q=4, v_mag=5, v_ang=6\n",
    "    # for the prediction tenso the incices are  v_mag=0, v_ang=1, p=2, q=3\n",
    "    \n",
    "    # Fill in known and predicted values\n",
    "    # PQ buses\n",
    "    v_mag[pq_mask] = pred[pq_mask, 0]  # Predicted. the pred[pq_mask,0] will return the predicted voltage magnitude for the PQ buses] \n",
    "    v_ang[pq_mask] = pred[pq_mask, 1]  # Predicted\n",
    "    p[pq_mask] = data.x[pq_mask, 3]    # Known (from input)\n",
    "    q[pq_mask] = data.x[pq_mask, 4]    # Known (from input)\n",
    "    \n",
    "    # PV buses\n",
    "    v_mag[pv_mask] = data.x[pv_mask, 5]  # Known (from input)\n",
    "    v_ang[pv_mask] = pred[pv_mask, 1]    # Predicted\n",
    "    p[pv_mask] = data.x[pv_mask, 3]      # Known (from input)\n",
    "    q[pv_mask] = pred[pv_mask, 3]        # Predicted\n",
    "    \n",
    "    # Slack bus\n",
    "    v_mag[slack_mask] = data.x[slack_mask, 5]  # Known (from input)\n",
    "    v_ang[slack_mask] = data.x[slack_mask, 6]  # Known (from input)\n",
    "    p[slack_mask] = pred[slack_mask, 2]        # Predicted\n",
    "    q[slack_mask] = pred[slack_mask, 3]        # Predicted\n",
    "    \n",
    "    # Calculate power flow using admittance matrix\n",
    "    # Get admittance matrix from PyPSA\n",
    "    Y_bus = get_ybus_from_pypsa(network)\n",
    "    Y_bus_tensor = torch.tensor(Y_bus, dtype=torch.complex64) #here we are converting the Y_bus matrix to a complex tensor\n",
    "    \n",
    "    Y_bus = get_ybus_from_pypsa(network)\n",
    "    Y_bus_tensor = torch.tensor(Y_bus, dtype=torch.complex64)\n",
    "    \n",
    "    # Initialize power balance loss\n",
    "    power_balance_loss = 0.0\n",
    "    \n",
    "    # Get batch information\n",
    "    if hasattr(data, 'batch'):\n",
    "        # For batched data\n",
    "        num_graphs = data.batch.max().item() + 1\n",
    "        num_nodes_per_graph = len(data.x) // num_graphs\n",
    "        \n",
    "        # Process each graph in the batch separately\n",
    "        for graph_idx in range(num_graphs):\n",
    "            # Create mask for this graph\n",
    "            graph_mask = (data.batch == graph_idx)\n",
    "            \n",
    "            # Extract data for this graph only\n",
    "            v_mag_graph = torch.zeros(num_nodes_per_graph)\n",
    "            v_ang_graph = torch.zeros(num_nodes_per_graph)\n",
    "            p_graph = torch.zeros(num_nodes_per_graph)\n",
    "            q_graph = torch.zeros(num_nodes_per_graph)\n",
    "            \n",
    "            # Get node indices for this graph\n",
    "            node_indices = torch.where(graph_mask)[0]\n",
    "            \n",
    "            # Fill in values for this graph\n",
    "            for i, node_idx in enumerate(node_indices):\n",
    "                # Get bus type masks for this node\n",
    "                is_pq = data.pq_mask[node_idx]\n",
    "                is_pv = data.pv_mask[node_idx]\n",
    "                is_slack = data.slack_mask[node_idx]\n",
    "                \n",
    "                # Fill based on bus type \n",
    "                if is_pq:\n",
    "                    v_mag_graph[i] = pred[node_idx, 0]\n",
    "                    v_ang_graph[i] = pred[node_idx, 1]\n",
    "                    p_graph[i] = data.x[node_idx, 3]\n",
    "                    q_graph[i] = data.x[node_idx, 4]\n",
    "                elif is_pv:\n",
    "                    v_mag_graph[i] = data.x[node_idx, 5]\n",
    "                    v_ang_graph[i] = pred[node_idx, 1]\n",
    "                    p_graph[i] = data.x[node_idx, 3]\n",
    "                    q_graph[i] = pred[node_idx, 3]\n",
    "                elif is_slack:\n",
    "                    v_mag_graph[i] = data.x[node_idx, 5]\n",
    "                    v_ang_graph[i] = data.x[node_idx, 6]\n",
    "                    p_graph[i] = pred[node_idx, 2]\n",
    "                    q_graph[i] = pred[node_idx, 3]\n",
    "            \n",
    "            # Calculate power flow for this graph\n",
    "            v_complex_graph = v_mag_graph * torch.exp(1j * torch.deg2rad(v_ang_graph))\n",
    "            S_calc_graph = v_complex_graph * torch.conj(torch.matmul(Y_bus_tensor, v_complex_graph))\n",
    "            p_calc_graph = torch.real(S_calc_graph)\n",
    "            \n",
    "            q_calc_graph = torch.imag(S_calc_graph)\n",
    "            \n",
    "            # Add to power balance loss\n",
    "            power_balance_loss += F.mse_loss(p_calc_graph, p_graph) + F.mse_loss(q_calc_graph, q_graph)\n",
    "        \n",
    "        # Average over all graphs in batch\n",
    "        power_balance_loss /= num_graphs\n",
    "    else:\n",
    "        # Convert voltage to complex form\n",
    "        v_complex = v_mag * torch.exp(1j * torch.deg2rad(v_ang))\n",
    "        \n",
    "        # Calculate power using S = V * (Y*V)* (complex power equation)\n",
    "        S_calc = v_complex * torch.conj(torch.matmul(Y_bus_tensor, v_complex))\n",
    "        p_calc = torch.real(S_calc)\n",
    "        q_calc = torch.imag(S_calc)\n",
    "        \n",
    "        # Power balance loss\n",
    "        power_balance_loss = F.mse_loss(p_calc, p) + F.mse_loss(q_calc, q)\n",
    "    \n",
    "    # Total loss (weighted sum)\n",
    "    total_loss = 0.7 * mse_loss + 0.3 * power_balance_loss\n",
    "    \n",
    "    return total_loss, mse_loss, power_balance_loss\n",
    " "
   ]
  },
  {
   "cell_type": "code",
   "execution_count": 38,
   "id": "383a7a72",
   "metadata": {},
   "outputs": [],
   "source": [
    "def get_ybus_from_pypsa(network, snapshot=None):\n",
    "    \"\"\"\n",
    "    Extract the admittance matrix (Y-bus) from a PyPSA network\n",
    "    \n",
    "    Args:\n",
    "        network: PyPSA network object\n",
    "        snapshot: Optional snapshot to use for time-dependent parameters\n",
    "    \n",
    "    Returns:\n",
    "        Y_bus: Complex numpy array representing the admittance matrix\n",
    "    \"\"\"\n",
    "    import numpy as np\n",
    "    from scipy.sparse import csr_matrix, lil_matrix\n",
    "    \n",
    "    # Get number of buses\n",
    "    n_buses = len(network.buses)\n",
    "    \n",
    "    # Initialize Y-bus matrix as sparse matrix\n",
    "    Y_bus = lil_matrix((n_buses, n_buses), dtype=complex)\n",
    "    \n",
    "    # Process lines\n",
    "    for line_idx, line in network.lines.iterrows():\n",
    "        # Get bus indices (convert from 1-indexed to 0-indexed)\n",
    "        from_bus = int(line['bus0'].split()[-1]) - 1\n",
    "        to_bus = int(line['bus1'].split()[-1]) - 1\n",
    "        \n",
    "        # Get line parameters\n",
    "        r = line['r']\n",
    "        x = line['x']\n",
    "        b = line['b']\n",
    "        \n",
    "        # Calculate admittance\n",
    "        y_series = 1 / complex(r, x)\n",
    "        y_shunt = complex(0, b/2)\n",
    "        \n",
    "        # Add to Y-bus matrix\n",
    "        # Diagonal elements\n",
    "        Y_bus[from_bus, from_bus] += y_series + y_shunt\n",
    "        Y_bus[to_bus, to_bus] += y_series + y_shunt\n",
    "        \n",
    "        # Off-diagonal elements\n",
    "        Y_bus[from_bus, to_bus] -= y_series\n",
    "        Y_bus[to_bus, from_bus] -= y_series\n",
    "    \n",
    "    # Process transformers if any\n",
    "    for trafo_idx, trafo in network.transformers.iterrows():\n",
    "        # Get bus indices\n",
    "        from_bus = int(trafo['bus0'].split()[-1]) - 1\n",
    "        to_bus = int(trafo['bus1'].split()[-1]) - 1\n",
    "        \n",
    "        # Get transformer parameters\n",
    "        r = trafo['r']\n",
    "        x = trafo['x']\n",
    "        tap = trafo.get('tap_ratio', 1.0)\n",
    "        \n",
    "        # Calculate admittance\n",
    "        y_series = 1 / complex(r, x)\n",
    "        \n",
    "        # Add to Y-bus matrix with tap ratio consideration\n",
    "        # Diagonal elements\n",
    "        Y_bus[from_bus, from_bus] += y_series / (tap**2)\n",
    "        Y_bus[to_bus, to_bus] += y_series\n",
    "        \n",
    "        # Off-diagonal elements\n",
    "        Y_bus[from_bus, to_bus] -= y_series / tap\n",
    "        Y_bus[to_bus, from_bus] -= y_series / tap\n",
    "    \n",
    "    # Convert to dense numpy array for easier use with PyTorch\n",
    "    Y_bus = Y_bus.toarray()\n",
    "    \n",
    "    return Y_bus\n"
   ]
  },
  {
   "cell_type": "code",
   "execution_count": 35,
   "id": "1aa9afb1",
   "metadata": {},
   "outputs": [],
   "source": [
    "def generate_training_data(base_network, num_scenarios=100, steps_per_scenario=15):\n",
    "    \"\"\"\n",
    "    Generate multiple network scenarios by varying load and generation\n",
    "    \n",
    "    Args:\n",
    "        base_network: Base PyPSA network\n",
    "        num_scenarios: Number of different scenarios to generate\n",
    "        steps_per_scenario: Number of snapshots per scenario\n",
    "    \n",
    "    Returns:\n",
    "        List of PyPSA networks with solved power flow\n",
    "    \"\"\"\n",
    "    networks = []\n",
    "    \n",
    "    for i in range(num_scenarios):\n",
    "        # Create a new network with random variations\n",
    "        p_set_gen2 = np.random.uniform(150, 180)  # Random generation for Gen 2\n",
    "        p_set_gen3 = np.random.uniform(80, 110)   # Random generation for Gen 3\n",
    "        \n",
    "        # Create network with these parameters\n",
    "        network = create_9_bus_network(\n",
    "            steps=steps_per_scenario,\n",
    "            p_set_gen2=p_set_gen2,\n",
    "            p_set_gen3=p_set_gen3,\n",
    "            plot=False\n",
    "        )\n",
    "        \n",
    "        # Solve power flow\n",
    "        network.pf(use_seed=True)\n",
    "        \n",
    "        # Add to list\n",
    "        networks.append(network)\n",
    "        \n",
    "        if i % 10 == 0:\n",
    "            print(f\"Generated {i+1}/{num_scenarios} networks\")\n",
    "    \n",
    "    return networks\n"
   ]
  },
  {
   "cell_type": "code",
   "execution_count": null,
   "id": "6326836d",
   "metadata": {},
   "outputs": [],
   "source": [
    "def evaluate_model(model, network, snapshot_idx=0):\n",
    "    \"\"\"\n",
    "    Evaluate model on a specific network and snapshot\n",
    "    \n",
    "    Args:\n",
    "        model: Trained PowerFlowGNN model\n",
    "        network: PyPSA network to evaluate on\n",
    "        snapshot_idx: Snapshot index to evaluate\n",
    "    \n",
    "    Returns:\n",
    "        Dictionary of metrics and predictions\n",
    "    \"\"\"\n",
    "    # Create dataset from this network\n",
    "    dataset = PowerFlowDataset([network])\n",
    "    \n",
    "    # Get data for the specific snapshot\n",
    "    data = dataset[snapshot_idx]\n",
    "    \n",
    "    # Make prediction\n",
    "    model.eval()\n",
    "    with torch.no_grad():\n",
    "        pred = model(data)\n",
    "    \n",
    "    # Extract true values from network\n",
    "    true_v_mag = network.buses_t.v_mag_pu.iloc[snapshot_idx].values\n",
    "    true_v_ang = network.buses_t.v_ang.iloc[snapshot_idx].values\n",
    "    true_p = network.buses_t.p.iloc[snapshot_idx].values\n",
    "    true_q = network.buses_t.q.iloc[snapshot_idx].values\n",
    "    \n",
    "    # Extract predicted values\n",
    "    pred_v_mag = torch.zeros_like(torch.tensor(true_v_mag, dtype=torch.float))\n",
    "    pred_v_ang = torch.zeros_like(torch.tensor(true_v_ang, dtype=torch.float))\n",
    "    pred_p = torch.zeros_like(torch.tensor(true_p, dtype=torch.float))\n",
    "    pred_q = torch.zeros_like(torch.tensor(true_q, dtype=torch.float))\n",
    "    \n",
    "    # Fill in predictions based on bus type\n",
    "    for i, bus in enumerate(network.buses.index):\n",
    "        bus_type = network.buses.loc[bus, 'type']\n",
    "        \n",
    "        if bus_type == 'PQ':\n",
    "            # For PQ buses, predict v_mag, v_ang\n",
    "            pred_v_mag[i] = pred[i, 0]\n",
    "            pred_v_ang[i] = pred[i, 1]\n",
    "            pred_p[i] = true_p[i]  # Known\n",
    "            pred_q[i] = true_q[i]  # Known\n",
    "        elif bus_type == 'PV':\n",
    "            # For PV buses, predict v_ang, q\n",
    "            pred_v_mag[i] = true_v_mag[i]  # Known\n",
    "            pred_v_ang[i] = pred[i, 1]\n",
    "            pred_p[i] = true_p[i]  # Known\n",
    "            pred_q[i] = pred[i, 3]\n",
    "        else:  # Slack\n",
    "            # For slack bus, predict p, q\n",
    "            pred_v_mag[i] = true_v_mag[i]  # Known\n",
    "            pred_v_ang[i] = true_v_ang[i]  # Known\n",
    "            pred_p[i] = pred[i, 2]\n",
    "            pred_q[i] = pred[i, 3]\n",
    "    \n",
    "    # Calculate metrics\n",
    "    v_mag_mae = torch.mean(torch.abs(pred_v_mag - torch.tensor(true_v_mag, dtype=torch.float)))\n",
    "    v_ang_rmse = torch.sqrt(torch.mean((pred_v_ang - torch.tensor(true_v_ang, dtype=torch.float))**2))\n",
    "    p_mae = torch.mean(torch.abs(pred_p - torch.tensor(true_p, dtype=torch.float)))\n",
    "    q_mae = torch.mean(torch.abs(pred_q - torch.tensor(true_q, dtype=torch.float)))\n",
    "    \n",
    "    # Calculate line flows using predicted values\n",
    "    pred_line_flows = calculate_line_flows(network, pred_v_mag.numpy(), pred_v_ang.numpy(), snapshot_idx)\n",
    "    true_line_flows = {\n",
    "        'p0': network.lines_t.p0.iloc[snapshot_idx].values,\n",
    "        'p1': network.lines_t.p1.iloc[snapshot_idx].values,\n",
    "        'q0': network.lines_t.q0.iloc[snapshot_idx].values,\n",
    "        'q1': network.lines_t.q1.iloc[snapshot_idx].values\n",
    "    }\n",
    "    \n",
    "    # Line flow metrics\n",
    "    p_flow_mae = np.mean(np.abs(pred_line_flows['p0'] - true_line_flows['p0']))\n",
    "    q_flow_mae = np.mean(np.abs(pred_line_flows['q0'] - true_line_flows['q0']))\n",
    "    \n",
    "    # Return metrics and predictions\n",
    "    return {\n",
    "        'metrics': {\n",
    "            'v_mag_mae': v_mag_mae.item(),\n",
    "            'v_ang_rmse': v_ang_rmse.item(),\n",
    "            'p_mae': p_mae.item(),\n",
    "            'q_mae': q_mae.item(),\n",
    "            'p_flow_mae': p_flow_mae,\n",
    "            'q_flow_mae': q_flow_mae\n",
    "        },\n",
    "        'predictions': {\n",
    "            'v_mag': pred_v_mag.numpy(),\n",
    "            'v_ang': pred_v_ang.numpy(),\n",
    "            'p': pred_p.numpy(),\n",
    "            'q': pred_q.numpy(),\n",
    "            'line_flows': pred_line_flows\n",
    "        },\n",
    "        'true_values': {\n",
    "            'v_mag': true_v_mag,\n",
    "            'v_ang': true_v_ang,\n",
    "            'p': true_p,\n",
    "            'q': true_q,\n",
    "            'line_flows': true_line_flows\n",
    "        }\n",
    "    }\n",
    "\n",
    "def calculate_line_flows(network, v_mag, v_ang, snapshot_idx):\n",
    "    \"\"\"\n",
    "    Calculate line flows from voltage magnitudes and angles\n",
    "    \n",
    "    Args:\n",
    "        network: PyPSA network\n",
    "        v_mag: Voltage magnitudes (per unit)\n",
    "        v_ang: Voltage angles (degrees)\n",
    "        snapshot_idx: Snapshot index\n",
    "    \n",
    "    Returns:\n",
    "        Dictionary with line flows\n",
    "    \"\"\"\n",
    "    # Convert angles to radians\n",
    "    v_ang_rad = np.deg2rad(v_ang)\n",
    "    \n",
    "    # Initialize arrays for line flows\n",
    "    num_lines = len(network.lines)\n",
    "    p0 = np.zeros(num_lines)\n",
    "    p1 = np.zeros(num_lines)\n",
    "    q0 = np.zeros(num_lines)\n",
    "    q1 = np.zeros(num_lines)\n",
    "    \n",
    "    # Calculate line flows for each line\n",
    "    for i, (idx, line) in enumerate(network.lines.iterrows()):\n",
    "        # Get bus indices\n",
    "        from_bus = int(line['bus0'].split()[-1]) - 1  # Convert 'Bus X' to index X-1\n",
    "        to_bus = int(line['bus1'].split()[-1]) - 1\n",
    "        \n",
    "        # Get line parameters\n",
    "        r = line['r']\n",
    "        x = line['x']\n",
    "        b = line['b']\n",
    "        \n",
    "        # Calculate admittance\n",
    "        y = 1 / complex(r, x)\n",
    "        g = y.real\n",
    "        b_line = y.imag\n",
    "        \n",
    "        # Get voltage at from and to buses\n",
    "        v_from = v_mag[from_bus]\n",
    "        v_to = v_mag[to_bus]\n",
    "        theta_from = v_ang_rad[from_bus]\n",
    "        theta_to = v_ang_rad[to_bus]\n",
    "        \n",
    "        # Calculate angle difference\n",
    "        theta_diff = theta_from - theta_to\n",
    "        \n",
    "        # Calculate active power flow\n",
    "        p0[i] = (v_from**2 * g - v_from * v_to * g * np.cos(theta_diff) \n",
    "                - v_from * v_to * b_line * np.sin(theta_diff))\n",
    "        p1[i] = (v_to**2 * g - v_from * v_to * g * np.cos(theta_diff) \n",
    "                + v_from * v_to * b_line * np.sin(theta_diff))\n",
    "        \n",
    "        # Calculate reactive power flow\n",
    "        q0[i] = (-v_from**2 * (b_line + b/2) + v_from * v_to * b_line * np.cos(theta_diff) \n",
    "                - v_from * v_to * g * np.sin(theta_diff))\n",
    "        q1[i] = (-v_to**2 * (b_line + b/2) + v_from * v_to * b_line * np.cos(theta_diff) \n",
    "                + v_from * v_to * g * np.sin(theta_diff))\n",
    "    \n",
    "    # Convert to MW and MVAr (assuming base power of 100 MVA)\n",
    "    base_mva = network.sbase\n",
    "    p0 *= base_mva\n",
    "    p1 *= base_mva\n",
    "    q0 *= base_mva\n",
    "    q1 *= base_mva\n",
    "    \n",
    "    return {'p0': p0, 'p1': p1, 'q0': q0, 'q1': q1}\n",
    "\n",
    "def visualize_results(results, network):\n",
    "    \"\"\"\n",
    "    Visualize model predictions vs true values\n",
    "    \n",
    "    Args:\n",
    "        results: Results dictionary from evaluate_model\n",
    "        network: PyPSA network\n",
    "    \"\"\"\n",
    "    # Extract predictions and true values\n",
    "    pred_v_mag = results['predictions']['v_mag']\n",
    "    true_v_mag = results['true_values']['v_mag']\n",
    "    pred_v_ang = results['predictions']['v_ang']\n",
    "    true_v_ang = results['true_values']['v_ang']\n",
    "    pred_p = results['predictions']['p']\n",
    "    true_p = results['true_values']['p']\n",
    "    pred_q = results['predictions']['q']\n",
    "    true_q = results['true_values']['q']\n",
    "    \n",
    "    # Create bus labels with types\n",
    "    bus_labels = []\n",
    "    for i, bus in enumerate(network.buses.index):\n",
    "        bus_type = network.buses.loc[bus, 'type']\n",
    "        bus_labels.append(f\"{bus} ({bus_type})\")\n",
    "    \n",
    "    # Create figure with subplots\n",
    "    fig, axs = plt.subplots(2, 2, figsize=(14, 10))\n",
    "    \n",
    "    # Plot voltage magnitude\n",
    "    axs[0, 0].bar(np.arange(len(bus_labels)), true_v_mag, width=0.4, label='True', alpha=0.7)\n",
    "    axs[0, 0].bar(np.arange(len(bus_labels))+0.4, pred_v_mag, width=0.4, label='Predicted', alpha=0.7)\n",
    "    axs[0, 0].set_xticks(np.arange(len(bus_labels))+0.2)\n",
    "    axs[0, 0].set_xticklabels(bus_labels, rotation=45, ha='right')\n",
    "    axs[0, 0].set_ylabel('Voltage Magnitude (p.u.)')\n",
    "    axs[0, 0].set_title('Voltage Magnitude Comparison')\n",
    "    axs[0, 0].legend()\n",
    "    axs[0, 0].grid(True, alpha=0.3)\n",
    "    \n",
    "    # Plot voltage angle\n",
    "    axs[0, 1].bar(np.arange(len(bus_labels)), true_v_ang, width=0.4, label='True', alpha=0.7)\n",
    "    axs[0, 1].bar(np.arange(len(bus_labels))+0.4, pred_v_ang, width=0.4, label='Predicted', alpha=0.7)\n",
    "    axs[0, 1].set_xticks(np.arange(len(bus_labels))+0.2)\n",
    "    axs[0, 1].set_xticklabels(bus_labels, rotation=45, ha='right')\n",
    "    axs[0, 1].set_ylabel('Voltage Angle (degrees)')\n",
    "    axs[0, 1].set_title('Voltage Angle Comparison')\n",
    "    axs[0, 1].legend()\n",
    "    axs[0, 1].grid(True, alpha=0.3)\n",
    "    \n",
    "    # Plot active power\n",
    "    axs[1, 0].bar(np.arange(len(bus_labels)), true_p, width=0.4, label='True', alpha=0.7)\n",
    "    axs[1, 0].bar(np.arange(len(bus_labels))+0.4, pred_p, width=0.4, label='Predicted', alpha=0.7)\n",
    "    axs[1, 0].set_xticks(np.arange(len(bus_labels))+0.2)\n",
    "    axs[1, 0].set_xticklabels(bus_labels, rotation=45, ha='right')\n",
    "    axs[1, 0].set_ylabel('Active Power (MW)')\n",
    "    axs[1, 0].set_title('Active Power Comparison')\n",
    "    axs[1, 0].legend()\n",
    "    axs[1, 0].grid(True, alpha=0.3)\n",
    "    \n",
    "    # Plot reactive power\n",
    "    axs[1, 1].bar(np.arange(len(bus_labels)), true_q, width=0.4, label='True', alpha=0.7)\n",
    "    axs[1, 1].bar(np.arange(len(bus_labels))+0.4, pred_q, width=0.4, label='Predicted', alpha=0.7)\n",
    "    axs[1, 1].set_xticks(np.arange(len(bus_labels))+0.2)\n",
    "    axs[1, 1].set_xticklabels(bus_labels, rotation=45, ha='right')\n",
    "    axs[1, 1].set_ylabel('Reactive Power (MVAr)')\n",
    "    axs[1, 1].set_title('Reactive Power Comparison')\n",
    "    axs[1, 1].legend()\n",
    "    axs[1, 1].grid(True, alpha=0.3)\n",
    "    \n",
    "    plt.tight_layout()\n",
    "    plt.show()\n",
    "    \n",
    "    # Plot line flow comparison\n",
    "    pred_flows = results['predictions']['line_flows']\n",
    "    true_flows = results['true_values']['line_flows']\n",
    "    \n",
    "    # Create line labels\n",
    "    line_labels = []\n",
    "    for i, line in enumerate(network.lines.index):\n",
    "        from_bus = network.lines.loc[line, 'bus0']\n",
    "        to_bus = network.lines.loc[line, 'bus1']\n",
    "        line_labels.append(f\"{line}\\n({from_bus}->{to_bus})\")\n",
    "    \n",
    "    # Create figure for line flows\n",
    "    fig, axs = plt.subplots(2, 1, figsize=(14, 10))\n",
    "    \n",
    "    # Plot active power flow\n",
    "    axs[0].bar(np.arange(len(line_labels)), true_flows['p0'], width=0.4, label='True', alpha=0.7)\n",
    "    axs[0].bar(np.arange(len(line_labels))+0.4, pred_flows['p0'], width=0.4, label='Predicted', alpha=0.7)\n",
    "    axs[0].set_xticks(np.arange(len(line_labels))+0.2)\n",
    "    axs[0].set_xticklabels(line_labels, rotation=45, ha='right')\n",
    "    axs[0].set_ylabel('Active Power Flow (MW)')\n",
    "    axs[0].set_title('Line Active Power Flow Comparison (From Bus)')\n",
    "    axs[0].legend()\n",
    "    axs[0].grid(True, alpha=0.3)\n",
    "    \n",
    "    # Plot reactive power flow\n",
    "    axs[1].bar(np.arange(len(line_labels)), true_flows['q0'], width=0.4, label='True', alpha=0.7)\n",
    "    axs[1].bar(np.arange(len(line_labels))+0.4, pred_flows['q0'], width=0.4, label='Predicted', alpha=0.7)\n",
    "    axs[1].set_xticks(np.arange(len(line_labels))+0.2)\n",
    "    axs[1].set_xticklabels(line_labels, rotation=45, ha='right')\n",
    "    axs[1].set_ylabel('Reactive Power Flow (MVAr)')\n",
    "    axs[1].set_title('Line Reactive Power Flow Comparison (From Bus)')\n",
    "    axs[1].legend()\n",
    "    axs[1].grid(True, alpha=0.3)\n",
    "    \n",
    "    plt.tight_layout()\n",
    "    plt.show()\n",
    "    \n",
    "    \n",
    "    # Print metrics\n",
    "    print(\"Model Performance Metrics:\")\n",
    "    print(f\"Voltage Magnitude MAE: {results['metrics']['v_mag_mae']:.6f} p.u.\")\n",
    "    print(f\"Voltage Angle RMSE: {results['metrics']['v_ang_rmse']:.6f} degrees\")\n",
    "    print(f\"Active Power MAE: {results['metrics']['p_mae']:.6f} MW\")\n",
    "    print(f\"Reactive Power MAE: {results['metrics']['q_mae']:.6f} MVAr\")\n",
    "    print(f\"Line Active Power Flow MAE: {results['metrics']['p_flow_mae']:.6f} MW\")\n",
    "    print(f\"Line Reactive Power Flow MAE: {results['metrics']['q_flow_mae']:.6f} MVAr\")\n",
    "\n",
    "def compare_execution_time(model, network, num_runs=100):\n",
    "    \"\"\"\n",
    "    Compare execution time between GNN and traditional power flow\n",
    "    \n",
    "    Args:\n",
    "        model: Trained PowerFlowGNN model\n",
    "        network: PyPSA network\n",
    "        num_runs: Number of runs for timing\n",
    "    \"\"\"\n",
    "    import time\n",
    "    \n",
    "    # Time GNN inference\n",
    "    dataset = PowerFlowDataset([network])\n",
    "    data = dataset[0]\n",
    "    \n",
    "    # Warm-up run\n",
    "    model.eval()\n",
    "    with torch.no_grad():\n",
    "        _ = model(data)\n",
    "    \n",
    "    # Time GNN inference\n",
    "    gnn_times = []\n",
    "    for _ in range(num_runs):\n",
    "        start_time = time.time()\n",
    "        with torch.no_grad():\n",
    "            _ = model(data)\n",
    "        gnn_times.append(time.time() - start_time)\n",
    "    \n",
    "    # Time traditional power flow\n",
    "    pf_times = []\n",
    "    for _ in range(num_runs):\n",
    "        # Create a copy to avoid modifying the original\n",
    "        net_copy = network.copy()\n",
    "        start_time = time.time()\n",
    "        net_copy.pf(use_seed=True)\n",
    "        pf_times.append(time.time() - start_time)\n",
    "    \n",
    "    # Calculate statistics\n",
    "    gnn_avg = np.mean(gnn_times) * 1000  # Convert to ms\n",
    "    gnn_std = np.std(gnn_times) * 1000\n",
    "    pf_avg = np.mean(pf_times) * 1000\n",
    "    pf_std = np.std(pf_times) * 1000\n",
    "    speedup = pf_avg / gnn_avg\n",
    "    \n",
    "    # Print results\n",
    "    print(f\"GNN Inference Time: {gnn_avg:.2f} ± {gnn_std:.2f} ms\")\n",
    "    print(f\"Traditional PF Time: {pf_avg:.2f} ± {pf_std:.2f} ms\")\n",
    "    print(f\"Speedup: {speedup:.2f}x\")\n",
    "    \n",
    "    # Plot comparison\n",
    "    plt.figure(figsize=(10, 6))\n",
    "    plt.bar(['GNN', 'Traditional PF'], [gnn_avg, pf_avg], yerr=[gnn_std, pf_std], alpha=0.7)\n",
    "    plt.ylabel('Execution Time (ms)')\n",
    "    plt.title('Execution Time Comparison')\n",
    "    plt.grid(True, alpha=0.3)\n",
    "    plt.show()\n"
   ]
  },
  {
   "cell_type": "code",
   "execution_count": 44,
   "id": "0f301c38",
   "metadata": {},
   "outputs": [
    {
     "name": "stderr",
     "output_type": "stream",
     "text": [
      "Epoch 1/100: 100%|██████████| 17/17 [00:02<00:00,  7.64it/s]\n"
     ]
    },
    {
     "name": "stdout",
     "output_type": "stream",
     "text": [
      "Epoch 1/100, Train Loss: 6180.152401, Val Loss: 6263.032227, LR: 0.001000\n"
     ]
    },
    {
     "name": "stderr",
     "output_type": "stream",
     "text": [
      "Epoch 2/100: 100%|██████████| 17/17 [00:02<00:00,  7.92it/s]\n"
     ]
    },
    {
     "name": "stdout",
     "output_type": "stream",
     "text": [
      "Epoch 2/100, Train Loss: 5426.182086, Val Loss: 4731.432251, LR: 0.001000\n"
     ]
    },
    {
     "name": "stderr",
     "output_type": "stream",
     "text": [
      "Epoch 3/100: 100%|██████████| 17/17 [00:02<00:00,  7.96it/s]\n"
     ]
    },
    {
     "name": "stdout",
     "output_type": "stream",
     "text": [
      "Epoch 3/100, Train Loss: 3961.635555, Val Loss: 3611.011597, LR: 0.001000\n"
     ]
    },
    {
     "name": "stderr",
     "output_type": "stream",
     "text": [
      "Epoch 4/100: 100%|██████████| 17/17 [00:02<00:00,  8.07it/s]\n"
     ]
    },
    {
     "name": "stdout",
     "output_type": "stream",
     "text": [
      "Epoch 4/100, Train Loss: 3497.737721, Val Loss: 3426.986267, LR: 0.001000\n"
     ]
    },
    {
     "name": "stderr",
     "output_type": "stream",
     "text": [
      "Epoch 5/100: 100%|██████████| 17/17 [00:02<00:00,  8.18it/s]\n"
     ]
    },
    {
     "name": "stdout",
     "output_type": "stream",
     "text": [
      "Epoch 5/100, Train Loss: 3343.320758, Val Loss: 3252.309875, LR: 0.001000\n"
     ]
    },
    {
     "name": "stderr",
     "output_type": "stream",
     "text": [
      "Epoch 6/100: 100%|██████████| 17/17 [00:02<00:00,  8.13it/s]\n"
     ]
    },
    {
     "name": "stdout",
     "output_type": "stream",
     "text": [
      "Epoch 6/100, Train Loss: 3108.924345, Val Loss: 3021.913879, LR: 0.001000\n"
     ]
    },
    {
     "name": "stderr",
     "output_type": "stream",
     "text": [
      "Epoch 7/100: 100%|██████████| 17/17 [00:02<00:00,  7.80it/s]\n"
     ]
    },
    {
     "name": "stdout",
     "output_type": "stream",
     "text": [
      "Epoch 7/100, Train Loss: 2911.778119, Val Loss: 2905.005188, LR: 0.001000\n"
     ]
    },
    {
     "name": "stderr",
     "output_type": "stream",
     "text": [
      "Epoch 8/100: 100%|██████████| 17/17 [00:02<00:00,  8.13it/s]\n"
     ]
    },
    {
     "name": "stdout",
     "output_type": "stream",
     "text": [
      "Epoch 8/100, Train Loss: 2816.907543, Val Loss: 2843.611694, LR: 0.001000\n"
     ]
    },
    {
     "name": "stderr",
     "output_type": "stream",
     "text": [
      "Epoch 9/100: 100%|██████████| 17/17 [00:02<00:00,  8.08it/s]\n"
     ]
    },
    {
     "name": "stdout",
     "output_type": "stream",
     "text": [
      "Epoch 9/100, Train Loss: 2785.383200, Val Loss: 2820.715942, LR: 0.001000\n"
     ]
    },
    {
     "name": "stderr",
     "output_type": "stream",
     "text": [
      "Epoch 10/100: 100%|██████████| 17/17 [00:02<00:00,  7.94it/s]\n"
     ]
    },
    {
     "name": "stdout",
     "output_type": "stream",
     "text": [
      "Epoch 10/100, Train Loss: 2774.538660, Val Loss: 2804.978638, LR: 0.001000\n"
     ]
    },
    {
     "name": "stderr",
     "output_type": "stream",
     "text": [
      "Epoch 11/100: 100%|██████████| 17/17 [00:02<00:00,  7.57it/s]\n"
     ]
    },
    {
     "name": "stdout",
     "output_type": "stream",
     "text": [
      "Epoch 11/100, Train Loss: 2756.083238, Val Loss: 2792.107971, LR: 0.001000\n"
     ]
    },
    {
     "name": "stderr",
     "output_type": "stream",
     "text": [
      "Epoch 12/100: 100%|██████████| 17/17 [00:02<00:00,  7.66it/s]\n"
     ]
    },
    {
     "name": "stdout",
     "output_type": "stream",
     "text": [
      "Epoch 12/100, Train Loss: 2748.295999, Val Loss: 2784.144714, LR: 0.001000\n"
     ]
    },
    {
     "name": "stderr",
     "output_type": "stream",
     "text": [
      "Epoch 13/100: 100%|██████████| 17/17 [00:02<00:00,  8.00it/s]\n"
     ]
    },
    {
     "name": "stdout",
     "output_type": "stream",
     "text": [
      "Epoch 13/100, Train Loss: 2760.376680, Val Loss: 2795.923767, LR: 0.001000\n"
     ]
    },
    {
     "name": "stderr",
     "output_type": "stream",
     "text": [
      "Epoch 14/100: 100%|██████████| 17/17 [00:02<00:00,  7.81it/s]\n"
     ]
    },
    {
     "name": "stdout",
     "output_type": "stream",
     "text": [
      "Epoch 14/100, Train Loss: 2727.571504, Val Loss: 2776.616760, LR: 0.001000\n"
     ]
    },
    {
     "name": "stderr",
     "output_type": "stream",
     "text": [
      "Epoch 15/100: 100%|██████████| 17/17 [00:02<00:00,  7.96it/s]\n"
     ]
    },
    {
     "name": "stdout",
     "output_type": "stream",
     "text": [
      "Epoch 15/100, Train Loss: 2738.463465, Val Loss: 2776.061340, LR: 0.001000\n"
     ]
    },
    {
     "name": "stderr",
     "output_type": "stream",
     "text": [
      "Epoch 16/100: 100%|██████████| 17/17 [00:02<00:00,  7.84it/s]\n"
     ]
    },
    {
     "name": "stdout",
     "output_type": "stream",
     "text": [
      "Epoch 16/100, Train Loss: 2724.548598, Val Loss: 2768.622986, LR: 0.001000\n"
     ]
    },
    {
     "name": "stderr",
     "output_type": "stream",
     "text": [
      "Epoch 17/100: 100%|██████████| 17/17 [00:02<00:00,  7.53it/s]\n"
     ]
    },
    {
     "name": "stdout",
     "output_type": "stream",
     "text": [
      "Epoch 17/100, Train Loss: 2729.910185, Val Loss: 2761.069519, LR: 0.001000\n"
     ]
    },
    {
     "name": "stderr",
     "output_type": "stream",
     "text": [
      "Epoch 18/100: 100%|██████████| 17/17 [00:02<00:00,  8.07it/s]\n"
     ]
    },
    {
     "name": "stdout",
     "output_type": "stream",
     "text": [
      "Epoch 18/100, Train Loss: 2716.412167, Val Loss: 2759.903259, LR: 0.001000\n"
     ]
    },
    {
     "name": "stderr",
     "output_type": "stream",
     "text": [
      "Epoch 19/100: 100%|██████████| 17/17 [00:02<00:00,  7.98it/s]\n"
     ]
    },
    {
     "name": "stdout",
     "output_type": "stream",
     "text": [
      "Epoch 19/100, Train Loss: 2702.583453, Val Loss: 2754.866150, LR: 0.001000\n"
     ]
    },
    {
     "name": "stderr",
     "output_type": "stream",
     "text": [
      "Epoch 20/100: 100%|██████████| 17/17 [00:02<00:00,  8.27it/s]\n"
     ]
    },
    {
     "name": "stdout",
     "output_type": "stream",
     "text": [
      "Epoch 20/100, Train Loss: 2708.227108, Val Loss: 2753.081970, LR: 0.001000\n"
     ]
    },
    {
     "name": "stderr",
     "output_type": "stream",
     "text": [
      "Epoch 21/100: 100%|██████████| 17/17 [00:02<00:00,  7.96it/s]\n"
     ]
    },
    {
     "name": "stdout",
     "output_type": "stream",
     "text": [
      "Epoch 21/100, Train Loss: 2706.752930, Val Loss: 2752.093689, LR: 0.001000\n"
     ]
    },
    {
     "name": "stderr",
     "output_type": "stream",
     "text": [
      "Epoch 22/100: 100%|██████████| 17/17 [00:02<00:00,  8.01it/s]\n"
     ]
    },
    {
     "name": "stdout",
     "output_type": "stream",
     "text": [
      "Epoch 22/100, Train Loss: 2734.576387, Val Loss: 2808.731567, LR: 0.001000\n"
     ]
    },
    {
     "name": "stderr",
     "output_type": "stream",
     "text": [
      "Epoch 23/100: 100%|██████████| 17/17 [00:02<00:00,  8.02it/s]\n"
     ]
    },
    {
     "name": "stdout",
     "output_type": "stream",
     "text": [
      "Epoch 23/100, Train Loss: 2754.112175, Val Loss: 2824.940430, LR: 0.001000\n"
     ]
    },
    {
     "name": "stderr",
     "output_type": "stream",
     "text": [
      "Epoch 24/100: 100%|██████████| 17/17 [00:02<00:00,  7.94it/s]\n"
     ]
    },
    {
     "name": "stdout",
     "output_type": "stream",
     "text": [
      "Epoch 24/100, Train Loss: 2747.847829, Val Loss: 2778.648315, LR: 0.001000\n"
     ]
    },
    {
     "name": "stderr",
     "output_type": "stream",
     "text": [
      "Epoch 25/100: 100%|██████████| 17/17 [00:02<00:00,  7.81it/s]\n"
     ]
    },
    {
     "name": "stdout",
     "output_type": "stream",
     "text": [
      "Epoch 25/100, Train Loss: 2716.061394, Val Loss: 2754.138794, LR: 0.001000\n"
     ]
    },
    {
     "name": "stderr",
     "output_type": "stream",
     "text": [
      "Epoch 26/100: 100%|██████████| 17/17 [00:02<00:00,  8.09it/s]\n"
     ]
    },
    {
     "name": "stdout",
     "output_type": "stream",
     "text": [
      "Epoch 26/100, Train Loss: 2701.674862, Val Loss: 2750.010803, LR: 0.001000\n"
     ]
    },
    {
     "name": "stderr",
     "output_type": "stream",
     "text": [
      "Epoch 27/100: 100%|██████████| 17/17 [00:02<00:00,  8.38it/s]\n"
     ]
    },
    {
     "name": "stdout",
     "output_type": "stream",
     "text": [
      "Epoch 27/100, Train Loss: 2703.331112, Val Loss: 2748.275452, LR: 0.001000\n"
     ]
    },
    {
     "name": "stderr",
     "output_type": "stream",
     "text": [
      "Epoch 28/100: 100%|██████████| 17/17 [00:02<00:00,  8.15it/s]\n"
     ]
    },
    {
     "name": "stdout",
     "output_type": "stream",
     "text": [
      "Epoch 28/100, Train Loss: 2693.544534, Val Loss: 2747.056885, LR: 0.001000\n"
     ]
    },
    {
     "name": "stderr",
     "output_type": "stream",
     "text": [
      "Epoch 29/100: 100%|██████████| 17/17 [00:02<00:00,  8.06it/s]\n"
     ]
    },
    {
     "name": "stdout",
     "output_type": "stream",
     "text": [
      "Epoch 29/100, Train Loss: 2701.879323, Val Loss: 2745.904602, LR: 0.001000\n"
     ]
    },
    {
     "name": "stderr",
     "output_type": "stream",
     "text": [
      "Epoch 30/100: 100%|██████████| 17/17 [00:02<00:00,  8.10it/s]\n"
     ]
    },
    {
     "name": "stdout",
     "output_type": "stream",
     "text": [
      "Epoch 30/100, Train Loss: 2708.170769, Val Loss: 2744.977356, LR: 0.001000\n"
     ]
    },
    {
     "name": "stderr",
     "output_type": "stream",
     "text": [
      "Epoch 31/100: 100%|██████████| 17/17 [00:02<00:00,  7.72it/s]\n"
     ]
    },
    {
     "name": "stdout",
     "output_type": "stream",
     "text": [
      "Epoch 31/100, Train Loss: 2697.566406, Val Loss: 2744.646057, LR: 0.001000\n"
     ]
    },
    {
     "name": "stderr",
     "output_type": "stream",
     "text": [
      "Epoch 32/100: 100%|██████████| 17/17 [00:02<00:00,  7.78it/s]\n"
     ]
    },
    {
     "name": "stdout",
     "output_type": "stream",
     "text": [
      "Epoch 32/100, Train Loss: 2692.568862, Val Loss: 2743.639404, LR: 0.001000\n"
     ]
    },
    {
     "name": "stderr",
     "output_type": "stream",
     "text": [
      "Epoch 33/100: 100%|██████████| 17/17 [00:02<00:00,  8.07it/s]\n"
     ]
    },
    {
     "name": "stdout",
     "output_type": "stream",
     "text": [
      "Epoch 33/100, Train Loss: 2699.653349, Val Loss: 2743.486450, LR: 0.001000\n"
     ]
    },
    {
     "name": "stderr",
     "output_type": "stream",
     "text": [
      "Epoch 34/100: 100%|██████████| 17/17 [00:02<00:00,  8.03it/s]\n"
     ]
    },
    {
     "name": "stdout",
     "output_type": "stream",
     "text": [
      "Epoch 34/100, Train Loss: 2696.688491, Val Loss: 2742.491028, LR: 0.001000\n"
     ]
    },
    {
     "name": "stderr",
     "output_type": "stream",
     "text": [
      "Epoch 35/100: 100%|██████████| 17/17 [00:02<00:00,  8.25it/s]\n"
     ]
    },
    {
     "name": "stdout",
     "output_type": "stream",
     "text": [
      "Epoch 35/100, Train Loss: 2690.364631, Val Loss: 2742.028442, LR: 0.001000\n"
     ]
    },
    {
     "name": "stderr",
     "output_type": "stream",
     "text": [
      "Epoch 36/100: 100%|██████████| 17/17 [00:02<00:00,  8.25it/s]\n"
     ]
    },
    {
     "name": "stdout",
     "output_type": "stream",
     "text": [
      "Epoch 36/100, Train Loss: 2692.216826, Val Loss: 2741.832458, LR: 0.001000\n"
     ]
    },
    {
     "name": "stderr",
     "output_type": "stream",
     "text": [
      "Epoch 37/100: 100%|██████████| 17/17 [00:02<00:00,  7.68it/s]\n"
     ]
    },
    {
     "name": "stdout",
     "output_type": "stream",
     "text": [
      "Epoch 37/100, Train Loss: 2693.891975, Val Loss: 2740.969116, LR: 0.001000\n"
     ]
    },
    {
     "name": "stderr",
     "output_type": "stream",
     "text": [
      "Epoch 38/100: 100%|██████████| 17/17 [00:02<00:00,  7.85it/s]\n"
     ]
    },
    {
     "name": "stdout",
     "output_type": "stream",
     "text": [
      "Epoch 38/100, Train Loss: 2693.022863, Val Loss: 2741.352173, LR: 0.001000\n"
     ]
    },
    {
     "name": "stderr",
     "output_type": "stream",
     "text": [
      "Epoch 39/100: 100%|██████████| 17/17 [00:02<00:00,  8.08it/s]\n"
     ]
    },
    {
     "name": "stdout",
     "output_type": "stream",
     "text": [
      "Epoch 39/100, Train Loss: 2693.174015, Val Loss: 2740.109863, LR: 0.001000\n"
     ]
    },
    {
     "name": "stderr",
     "output_type": "stream",
     "text": [
      "Epoch 40/100: 100%|██████████| 17/17 [00:02<00:00,  7.65it/s]\n"
     ]
    },
    {
     "name": "stdout",
     "output_type": "stream",
     "text": [
      "Epoch 40/100, Train Loss: 2698.134751, Val Loss: 2743.530396, LR: 0.001000\n"
     ]
    },
    {
     "name": "stderr",
     "output_type": "stream",
     "text": [
      "Epoch 41/100: 100%|██████████| 17/17 [00:02<00:00,  8.07it/s]\n"
     ]
    },
    {
     "name": "stdout",
     "output_type": "stream",
     "text": [
      "Epoch 41/100, Train Loss: 2693.639002, Val Loss: 2742.159607, LR: 0.001000\n"
     ]
    },
    {
     "name": "stderr",
     "output_type": "stream",
     "text": [
      "Epoch 42/100: 100%|██████████| 17/17 [00:02<00:00,  8.11it/s]\n"
     ]
    },
    {
     "name": "stdout",
     "output_type": "stream",
     "text": [
      "Epoch 42/100, Train Loss: 2692.004596, Val Loss: 2739.127563, LR: 0.001000\n"
     ]
    },
    {
     "name": "stderr",
     "output_type": "stream",
     "text": [
      "Epoch 43/100: 100%|██████████| 17/17 [00:02<00:00,  7.59it/s]\n"
     ]
    },
    {
     "name": "stdout",
     "output_type": "stream",
     "text": [
      "Epoch 43/100, Train Loss: 2678.257884, Val Loss: 2738.941895, LR: 0.001000\n"
     ]
    },
    {
     "name": "stderr",
     "output_type": "stream",
     "text": [
      "Epoch 44/100: 100%|██████████| 17/17 [00:02<00:00,  8.12it/s]\n"
     ]
    },
    {
     "name": "stdout",
     "output_type": "stream",
     "text": [
      "Epoch 44/100, Train Loss: 2685.346464, Val Loss: 2738.831787, LR: 0.001000\n"
     ]
    },
    {
     "name": "stderr",
     "output_type": "stream",
     "text": [
      "Epoch 45/100: 100%|██████████| 17/17 [00:02<00:00,  8.19it/s]\n"
     ]
    },
    {
     "name": "stdout",
     "output_type": "stream",
     "text": [
      "Epoch 45/100, Train Loss: 2688.073371, Val Loss: 2738.319031, LR: 0.001000\n"
     ]
    },
    {
     "name": "stderr",
     "output_type": "stream",
     "text": [
      "Epoch 46/100: 100%|██████████| 17/17 [00:02<00:00,  8.12it/s]\n"
     ]
    },
    {
     "name": "stdout",
     "output_type": "stream",
     "text": [
      "Epoch 46/100, Train Loss: 2689.442842, Val Loss: 2738.686096, LR: 0.001000\n"
     ]
    },
    {
     "name": "stderr",
     "output_type": "stream",
     "text": [
      "Epoch 47/100: 100%|██████████| 17/17 [00:02<00:00,  8.11it/s]\n"
     ]
    },
    {
     "name": "stdout",
     "output_type": "stream",
     "text": [
      "Epoch 47/100, Train Loss: 2692.465246, Val Loss: 2737.919800, LR: 0.001000\n"
     ]
    },
    {
     "name": "stderr",
     "output_type": "stream",
     "text": [
      "Epoch 48/100: 100%|██████████| 17/17 [00:02<00:00,  8.21it/s]\n"
     ]
    },
    {
     "name": "stdout",
     "output_type": "stream",
     "text": [
      "Epoch 48/100, Train Loss: 2705.890927, Val Loss: 2737.910217, LR: 0.001000\n"
     ]
    },
    {
     "name": "stderr",
     "output_type": "stream",
     "text": [
      "Epoch 49/100: 100%|██████████| 17/17 [00:02<00:00,  7.24it/s]\n"
     ]
    },
    {
     "name": "stdout",
     "output_type": "stream",
     "text": [
      "Epoch 49/100, Train Loss: 2702.564482, Val Loss: 2737.954163, LR: 0.001000\n"
     ]
    },
    {
     "name": "stderr",
     "output_type": "stream",
     "text": [
      "Epoch 50/100: 100%|██████████| 17/17 [00:02<00:00,  8.05it/s]\n"
     ]
    },
    {
     "name": "stdout",
     "output_type": "stream",
     "text": [
      "Epoch 50/100, Train Loss: 2694.303409, Val Loss: 2737.518005, LR: 0.001000\n"
     ]
    },
    {
     "name": "stderr",
     "output_type": "stream",
     "text": [
      "Epoch 51/100: 100%|██████████| 17/17 [00:02<00:00,  8.15it/s]\n"
     ]
    },
    {
     "name": "stdout",
     "output_type": "stream",
     "text": [
      "Epoch 51/100, Train Loss: 2679.869844, Val Loss: 2737.523071, LR: 0.001000\n"
     ]
    },
    {
     "name": "stderr",
     "output_type": "stream",
     "text": [
      "Epoch 52/100: 100%|██████████| 17/17 [00:02<00:00,  7.94it/s]\n"
     ]
    },
    {
     "name": "stdout",
     "output_type": "stream",
     "text": [
      "Epoch 52/100, Train Loss: 2684.670152, Val Loss: 2737.415649, LR: 0.001000\n"
     ]
    },
    {
     "name": "stderr",
     "output_type": "stream",
     "text": [
      "Epoch 53/100: 100%|██████████| 17/17 [00:02<00:00,  8.02it/s]\n"
     ]
    },
    {
     "name": "stdout",
     "output_type": "stream",
     "text": [
      "Epoch 53/100, Train Loss: 2687.370203, Val Loss: 2737.224426, LR: 0.001000\n"
     ]
    },
    {
     "name": "stderr",
     "output_type": "stream",
     "text": [
      "Epoch 54/100: 100%|██████████| 17/17 [00:02<00:00,  7.97it/s]\n"
     ]
    },
    {
     "name": "stdout",
     "output_type": "stream",
     "text": [
      "Epoch 54/100, Train Loss: 2701.233212, Val Loss: 2737.217468, LR: 0.001000\n"
     ]
    },
    {
     "name": "stderr",
     "output_type": "stream",
     "text": [
      "Epoch 55/100: 100%|██████████| 17/17 [00:02<00:00,  7.15it/s]\n"
     ]
    },
    {
     "name": "stdout",
     "output_type": "stream",
     "text": [
      "Epoch 55/100, Train Loss: 2695.330121, Val Loss: 2737.618591, LR: 0.001000\n"
     ]
    },
    {
     "name": "stderr",
     "output_type": "stream",
     "text": [
      "Epoch 56/100: 100%|██████████| 17/17 [00:02<00:00,  7.53it/s]\n"
     ]
    },
    {
     "name": "stdout",
     "output_type": "stream",
     "text": [
      "Epoch 56/100, Train Loss: 2685.913459, Val Loss: 2738.148499, LR: 0.001000\n"
     ]
    },
    {
     "name": "stderr",
     "output_type": "stream",
     "text": [
      "Epoch 57/100: 100%|██████████| 17/17 [00:02<00:00,  7.99it/s]\n"
     ]
    },
    {
     "name": "stdout",
     "output_type": "stream",
     "text": [
      "Epoch 57/100, Train Loss: 2682.835679, Val Loss: 2737.833679, LR: 0.001000\n"
     ]
    },
    {
     "name": "stderr",
     "output_type": "stream",
     "text": [
      "Epoch 58/100: 100%|██████████| 17/17 [00:02<00:00,  8.04it/s]\n"
     ]
    },
    {
     "name": "stdout",
     "output_type": "stream",
     "text": [
      "Epoch 58/100, Train Loss: 2696.076775, Val Loss: 2736.981079, LR: 0.001000\n"
     ]
    },
    {
     "name": "stderr",
     "output_type": "stream",
     "text": [
      "Epoch 59/100: 100%|██████████| 17/17 [00:02<00:00,  8.15it/s]\n"
     ]
    },
    {
     "name": "stdout",
     "output_type": "stream",
     "text": [
      "Epoch 59/100, Train Loss: 2688.734361, Val Loss: 2736.949097, LR: 0.001000\n"
     ]
    },
    {
     "name": "stderr",
     "output_type": "stream",
     "text": [
      "Epoch 60/100: 100%|██████████| 17/17 [00:02<00:00,  8.26it/s]\n"
     ]
    },
    {
     "name": "stdout",
     "output_type": "stream",
     "text": [
      "Epoch 60/100, Train Loss: 2681.425911, Val Loss: 2736.955200, LR: 0.001000\n"
     ]
    },
    {
     "name": "stderr",
     "output_type": "stream",
     "text": [
      "Epoch 61/100: 100%|██████████| 17/17 [00:02<00:00,  7.92it/s]\n"
     ]
    },
    {
     "name": "stdout",
     "output_type": "stream",
     "text": [
      "Epoch 61/100, Train Loss: 2687.497688, Val Loss: 2737.170654, LR: 0.001000\n"
     ]
    },
    {
     "name": "stderr",
     "output_type": "stream",
     "text": [
      "Epoch 62/100: 100%|██████████| 17/17 [00:02<00:00,  7.84it/s]\n"
     ]
    },
    {
     "name": "stdout",
     "output_type": "stream",
     "text": [
      "Epoch 62/100, Train Loss: 2677.579848, Val Loss: 2737.205811, LR: 0.001000\n"
     ]
    },
    {
     "name": "stderr",
     "output_type": "stream",
     "text": [
      "Epoch 63/100: 100%|██████████| 17/17 [00:02<00:00,  7.49it/s]\n"
     ]
    },
    {
     "name": "stdout",
     "output_type": "stream",
     "text": [
      "Epoch 63/100, Train Loss: 2677.950238, Val Loss: 2736.906433, LR: 0.001000\n"
     ]
    },
    {
     "name": "stderr",
     "output_type": "stream",
     "text": [
      "Epoch 64/100: 100%|██████████| 17/17 [00:02<00:00,  7.69it/s]\n"
     ]
    },
    {
     "name": "stdout",
     "output_type": "stream",
     "text": [
      "Epoch 64/100, Train Loss: 2693.001522, Val Loss: 2736.760620, LR: 0.001000\n"
     ]
    },
    {
     "name": "stderr",
     "output_type": "stream",
     "text": [
      "Epoch 65/100: 100%|██████████| 17/17 [00:02<00:00,  7.94it/s]\n"
     ]
    },
    {
     "name": "stdout",
     "output_type": "stream",
     "text": [
      "Epoch 65/100, Train Loss: 2688.599954, Val Loss: 2736.801453, LR: 0.001000\n"
     ]
    },
    {
     "name": "stderr",
     "output_type": "stream",
     "text": [
      "Epoch 66/100: 100%|██████████| 17/17 [00:02<00:00,  7.82it/s]\n"
     ]
    },
    {
     "name": "stdout",
     "output_type": "stream",
     "text": [
      "Epoch 66/100, Train Loss: 2681.124167, Val Loss: 2736.609436, LR: 0.001000\n"
     ]
    },
    {
     "name": "stderr",
     "output_type": "stream",
     "text": [
      "Epoch 67/100: 100%|██████████| 17/17 [00:02<00:00,  8.07it/s]\n"
     ]
    },
    {
     "name": "stdout",
     "output_type": "stream",
     "text": [
      "Epoch 67/100, Train Loss: 2692.017578, Val Loss: 2736.639343, LR: 0.001000\n"
     ]
    },
    {
     "name": "stderr",
     "output_type": "stream",
     "text": [
      "Epoch 68/100: 100%|██████████| 17/17 [00:02<00:00,  8.00it/s]\n"
     ]
    },
    {
     "name": "stdout",
     "output_type": "stream",
     "text": [
      "Epoch 68/100, Train Loss: 2690.951229, Val Loss: 2738.161377, LR: 0.001000\n"
     ]
    },
    {
     "name": "stderr",
     "output_type": "stream",
     "text": [
      "Epoch 69/100: 100%|██████████| 17/17 [00:02<00:00,  7.75it/s]\n"
     ]
    },
    {
     "name": "stdout",
     "output_type": "stream",
     "text": [
      "Epoch 69/100, Train Loss: 2690.314051, Val Loss: 2736.930786, LR: 0.001000\n"
     ]
    },
    {
     "name": "stderr",
     "output_type": "stream",
     "text": [
      "Epoch 70/100: 100%|██████████| 17/17 [00:02<00:00,  7.97it/s]\n"
     ]
    },
    {
     "name": "stdout",
     "output_type": "stream",
     "text": [
      "Epoch 70/100, Train Loss: 2691.267693, Val Loss: 2738.670654, LR: 0.001000\n"
     ]
    },
    {
     "name": "stderr",
     "output_type": "stream",
     "text": [
      "Epoch 71/100: 100%|██████████| 17/17 [00:02<00:00,  8.40it/s]\n"
     ]
    },
    {
     "name": "stdout",
     "output_type": "stream",
     "text": [
      "Epoch 71/100, Train Loss: 2695.768167, Val Loss: 2743.197266, LR: 0.001000\n"
     ]
    },
    {
     "name": "stderr",
     "output_type": "stream",
     "text": [
      "Epoch 72/100: 100%|██████████| 17/17 [00:02<00:00,  8.20it/s]\n"
     ]
    },
    {
     "name": "stdout",
     "output_type": "stream",
     "text": [
      "Epoch 72/100, Train Loss: 2678.540355, Val Loss: 2736.690796, LR: 0.001000\n"
     ]
    },
    {
     "name": "stderr",
     "output_type": "stream",
     "text": [
      "Epoch 73/100: 100%|██████████| 17/17 [00:02<00:00,  7.81it/s]\n"
     ]
    },
    {
     "name": "stdout",
     "output_type": "stream",
     "text": [
      "Epoch 73/100, Train Loss: 2681.773581, Val Loss: 2736.817688, LR: 0.001000\n"
     ]
    },
    {
     "name": "stderr",
     "output_type": "stream",
     "text": [
      "Epoch 74/100: 100%|██████████| 17/17 [00:02<00:00,  8.05it/s]\n"
     ]
    },
    {
     "name": "stdout",
     "output_type": "stream",
     "text": [
      "Epoch 74/100, Train Loss: 2683.207117, Val Loss: 2737.527832, LR: 0.001000\n"
     ]
    },
    {
     "name": "stderr",
     "output_type": "stream",
     "text": [
      "Epoch 75/100: 100%|██████████| 17/17 [00:02<00:00,  8.16it/s]\n"
     ]
    },
    {
     "name": "stdout",
     "output_type": "stream",
     "text": [
      "Epoch 75/100, Train Loss: 2688.499368, Val Loss: 2737.178528, LR: 0.001000\n"
     ]
    },
    {
     "name": "stderr",
     "output_type": "stream",
     "text": [
      "Epoch 76/100: 100%|██████████| 17/17 [00:02<00:00,  7.98it/s]\n"
     ]
    },
    {
     "name": "stdout",
     "output_type": "stream",
     "text": [
      "Epoch 76/100, Train Loss: 2691.448529, Val Loss: 2737.952881, LR: 0.001000\n"
     ]
    },
    {
     "name": "stderr",
     "output_type": "stream",
     "text": [
      "Epoch 77/100: 100%|██████████| 17/17 [00:02<00:00,  8.02it/s]\n"
     ]
    },
    {
     "name": "stdout",
     "output_type": "stream",
     "text": [
      "Epoch 77/100, Train Loss: 2691.904182, Val Loss: 2736.873230, LR: 0.000500\n"
     ]
    },
    {
     "name": "stderr",
     "output_type": "stream",
     "text": [
      "Epoch 78/100: 100%|██████████| 17/17 [00:02<00:00,  7.40it/s]\n"
     ]
    },
    {
     "name": "stdout",
     "output_type": "stream",
     "text": [
      "Epoch 78/100, Train Loss: 2694.096349, Val Loss: 2736.528870, LR: 0.000500\n"
     ]
    },
    {
     "name": "stderr",
     "output_type": "stream",
     "text": [
      "Epoch 79/100: 100%|██████████| 17/17 [00:02<00:00,  7.13it/s]\n"
     ]
    },
    {
     "name": "stdout",
     "output_type": "stream",
     "text": [
      "Epoch 79/100, Train Loss: 2684.423469, Val Loss: 2736.424805, LR: 0.000500\n"
     ]
    },
    {
     "name": "stderr",
     "output_type": "stream",
     "text": [
      "Epoch 80/100: 100%|██████████| 17/17 [00:02<00:00,  7.56it/s]\n"
     ]
    },
    {
     "name": "stdout",
     "output_type": "stream",
     "text": [
      "Epoch 80/100, Train Loss: 2684.232580, Val Loss: 2736.399170, LR: 0.000500\n"
     ]
    },
    {
     "name": "stderr",
     "output_type": "stream",
     "text": [
      "Epoch 81/100: 100%|██████████| 17/17 [00:02<00:00,  7.19it/s]\n"
     ]
    },
    {
     "name": "stdout",
     "output_type": "stream",
     "text": [
      "Epoch 81/100, Train Loss: 2689.635699, Val Loss: 2736.371887, LR: 0.000500\n"
     ]
    },
    {
     "name": "stderr",
     "output_type": "stream",
     "text": [
      "Epoch 82/100: 100%|██████████| 17/17 [00:02<00:00,  7.16it/s]\n"
     ]
    },
    {
     "name": "stdout",
     "output_type": "stream",
     "text": [
      "Epoch 82/100, Train Loss: 2691.945729, Val Loss: 2736.375793, LR: 0.000500\n"
     ]
    },
    {
     "name": "stderr",
     "output_type": "stream",
     "text": [
      "Epoch 83/100: 100%|██████████| 17/17 [00:02<00:00,  7.75it/s]\n"
     ]
    },
    {
     "name": "stdout",
     "output_type": "stream",
     "text": [
      "Epoch 83/100, Train Loss: 2689.879093, Val Loss: 2736.383972, LR: 0.000500\n"
     ]
    },
    {
     "name": "stderr",
     "output_type": "stream",
     "text": [
      "Epoch 84/100: 100%|██████████| 17/17 [00:02<00:00,  7.58it/s]\n"
     ]
    },
    {
     "name": "stdout",
     "output_type": "stream",
     "text": [
      "Epoch 84/100, Train Loss: 2683.771700, Val Loss: 2736.384094, LR: 0.000500\n"
     ]
    },
    {
     "name": "stderr",
     "output_type": "stream",
     "text": [
      "Epoch 85/100: 100%|██████████| 17/17 [00:02<00:00,  7.33it/s]\n"
     ]
    },
    {
     "name": "stdout",
     "output_type": "stream",
     "text": [
      "Epoch 85/100, Train Loss: 2691.762035, Val Loss: 2736.368286, LR: 0.000500\n"
     ]
    },
    {
     "name": "stderr",
     "output_type": "stream",
     "text": [
      "Epoch 86/100: 100%|██████████| 17/17 [00:02<00:00,  8.03it/s]\n"
     ]
    },
    {
     "name": "stdout",
     "output_type": "stream",
     "text": [
      "Epoch 86/100, Train Loss: 2696.950913, Val Loss: 2736.353088, LR: 0.000500\n"
     ]
    },
    {
     "name": "stderr",
     "output_type": "stream",
     "text": [
      "Epoch 87/100: 100%|██████████| 17/17 [00:02<00:00,  8.21it/s]\n"
     ]
    },
    {
     "name": "stdout",
     "output_type": "stream",
     "text": [
      "Epoch 87/100, Train Loss: 2687.990680, Val Loss: 2736.347290, LR: 0.000500\n"
     ]
    },
    {
     "name": "stderr",
     "output_type": "stream",
     "text": [
      "Epoch 88/100: 100%|██████████| 17/17 [00:02<00:00,  7.43it/s]\n"
     ]
    },
    {
     "name": "stdout",
     "output_type": "stream",
     "text": [
      "Epoch 88/100, Train Loss: 2689.296789, Val Loss: 2736.339050, LR: 0.000250\n"
     ]
    },
    {
     "name": "stderr",
     "output_type": "stream",
     "text": [
      "Epoch 89/100: 100%|██████████| 17/17 [00:02<00:00,  7.84it/s]\n"
     ]
    },
    {
     "name": "stdout",
     "output_type": "stream",
     "text": [
      "Epoch 89/100, Train Loss: 2689.215318, Val Loss: 2736.325562, LR: 0.000250\n"
     ]
    },
    {
     "name": "stderr",
     "output_type": "stream",
     "text": [
      "Epoch 90/100: 100%|██████████| 17/17 [00:02<00:00,  7.83it/s]\n"
     ]
    },
    {
     "name": "stdout",
     "output_type": "stream",
     "text": [
      "Epoch 90/100, Train Loss: 2688.910989, Val Loss: 2736.320374, LR: 0.000250\n"
     ]
    },
    {
     "name": "stderr",
     "output_type": "stream",
     "text": [
      "Epoch 91/100: 100%|██████████| 17/17 [00:02<00:00,  8.11it/s]\n"
     ]
    },
    {
     "name": "stdout",
     "output_type": "stream",
     "text": [
      "Epoch 91/100, Train Loss: 2691.090030, Val Loss: 2736.317993, LR: 0.000250\n"
     ]
    },
    {
     "name": "stderr",
     "output_type": "stream",
     "text": [
      "Epoch 92/100: 100%|██████████| 17/17 [00:02<00:00,  8.14it/s]\n"
     ]
    },
    {
     "name": "stdout",
     "output_type": "stream",
     "text": [
      "Epoch 92/100, Train Loss: 2694.080969, Val Loss: 2736.318237, LR: 0.000250\n"
     ]
    },
    {
     "name": "stderr",
     "output_type": "stream",
     "text": [
      "Epoch 93/100: 100%|██████████| 17/17 [00:02<00:00,  8.02it/s]\n"
     ]
    },
    {
     "name": "stdout",
     "output_type": "stream",
     "text": [
      "Epoch 93/100, Train Loss: 2686.354650, Val Loss: 2736.314819, LR: 0.000250\n"
     ]
    },
    {
     "name": "stderr",
     "output_type": "stream",
     "text": [
      "Epoch 94/100: 100%|██████████| 17/17 [00:02<00:00,  7.55it/s]\n"
     ]
    },
    {
     "name": "stdout",
     "output_type": "stream",
     "text": [
      "Epoch 94/100, Train Loss: 2684.919663, Val Loss: 2736.309814, LR: 0.000250\n"
     ]
    },
    {
     "name": "stderr",
     "output_type": "stream",
     "text": [
      "Epoch 95/100: 100%|██████████| 17/17 [00:02<00:00,  7.61it/s]\n"
     ]
    },
    {
     "name": "stdout",
     "output_type": "stream",
     "text": [
      "Epoch 95/100, Train Loss: 2688.153263, Val Loss: 2736.306946, LR: 0.000250\n"
     ]
    },
    {
     "name": "stderr",
     "output_type": "stream",
     "text": [
      "Epoch 96/100: 100%|██████████| 17/17 [00:02<00:00,  8.03it/s]\n"
     ]
    },
    {
     "name": "stdout",
     "output_type": "stream",
     "text": [
      "Epoch 96/100, Train Loss: 2677.270766, Val Loss: 2736.311157, LR: 0.000250\n"
     ]
    },
    {
     "name": "stderr",
     "output_type": "stream",
     "text": [
      "Epoch 97/100: 100%|██████████| 17/17 [00:02<00:00,  7.99it/s]\n"
     ]
    },
    {
     "name": "stdout",
     "output_type": "stream",
     "text": [
      "Epoch 97/100, Train Loss: 2685.697984, Val Loss: 2736.307495, LR: 0.000250\n"
     ]
    },
    {
     "name": "stderr",
     "output_type": "stream",
     "text": [
      "Epoch 98/100: 100%|██████████| 17/17 [00:02<00:00,  7.83it/s]\n"
     ]
    },
    {
     "name": "stdout",
     "output_type": "stream",
     "text": [
      "Epoch 98/100, Train Loss: 2686.698558, Val Loss: 2736.301331, LR: 0.000250\n"
     ]
    },
    {
     "name": "stderr",
     "output_type": "stream",
     "text": [
      "Epoch 99/100: 100%|██████████| 17/17 [00:02<00:00,  7.65it/s]\n"
     ]
    },
    {
     "name": "stdout",
     "output_type": "stream",
     "text": [
      "Epoch 99/100, Train Loss: 2686.695255, Val Loss: 2736.299744, LR: 0.000250\n"
     ]
    },
    {
     "name": "stderr",
     "output_type": "stream",
     "text": [
      "Epoch 100/100: 100%|██████████| 17/17 [00:02<00:00,  7.68it/s]\n"
     ]
    },
    {
     "name": "stdout",
     "output_type": "stream",
     "text": [
      "Epoch 100/100, Train Loss: 2687.606029, Val Loss: 2736.300720, LR: 0.000125\n"
     ]
    },
    {
     "data": {
      "image/png": "[encoded data removed]",
      "text/plain": [
       "<Figure size 1000x600 with 1 Axes>"
      ]
     },
     "metadata": {},
     "output_type": "display_data"
    },
    {
     "name": "stdout",
     "output_type": "stream",
     "text": [
      "Test Loss: 2646.494324\n",
      "MSE Loss: 284.702744\n",
      "Physics Loss: 8157.340942\n"
     ]
    },
    {
     "name": "stderr",
     "output_type": "stream",
     "text": [
      "INFO:pypsa.pf:Performing non-linear load-flow on AC sub-network SubNetwork 0 for snapshots DatetimeIndex(['2025-01-01 00:00:00'], dtype='datetime64[ns]', name='snapshot', freq='h')\n",
      "INFO:pypsa.pf:Newton-Raphson solved in 3 iterations with error of 0.000001 in 0.016711 seconds\n"
     ]
    },
    {
     "data": {
      "image/png": "[encoded data removed]",
      "text/plain": [
       "<Figure size 1400x1000 with 4 Axes>"
      ]
     },
     "metadata": {},
     "output_type": "display_data"
    },
    {
     "data": {
      "image/png": "[encoded data removed]",
      "text/plain": [
       "<Figure size 1400x1000 with 2 Axes>"
      ]
     },
     "metadata": {},
     "output_type": "display_data"
    },
    {
     "name": "stdout",
     "output_type": "stream",
     "text": [
      "Model Performance Metrics:\n",
      "Voltage Magnitude MAE: 0.634946 p.u.\n",
      "Voltage Angle RMSE: 17.242596 degrees\n",
      "Active Power MAE: 0.689454 MW\n",
      "Reactive Power MAE: 26.948870 MVAr\n",
      "Line Active Power Flow MAE: 994.178665 MW\n",
      "Line Reactive Power Flow MAE: 859.041532 MVAr\n"
     ]
    },
    {
     "name": "stderr",
     "output_type": "stream",
     "text": [
      "INFO:pypsa.pf:Performing non-linear load-flow on AC sub-network SubNetwork 0 for snapshots DatetimeIndex(['2025-01-01 00:00:00'], dtype='datetime64[ns]', name='snapshot', freq='h')\n",
      "INFO:pypsa.pf:Newton-Raphson solved in 0 iterations with error of 0.000001 in 0.004168 seconds\n",
      "INFO:pypsa.pf:Performing non-linear load-flow on AC sub-network SubNetwork 0 for snapshots DatetimeIndex(['2025-01-01 00:00:00'], dtype='datetime64[ns]', name='snapshot', freq='h')\n",
      "INFO:pypsa.pf:Newton-Raphson solved in 0 iterations with error of 0.000001 in 0.005174 seconds\n",
      "INFO:pypsa.pf:Performing non-linear load-flow on AC sub-network SubNetwork 0 for snapshots DatetimeIndex(['2025-01-01 00:00:00'], dtype='datetime64[ns]', name='snapshot', freq='h')\n",
      "INFO:pypsa.pf:Newton-Raphson solved in 0 iterations with error of 0.000001 in 0.000000 seconds\n",
      "INFO:pypsa.pf:Performing non-linear load-flow on AC sub-network SubNetwork 0 for snapshots DatetimeIndex(['2025-01-01 00:00:00'], dtype='datetime64[ns]', name='snapshot', freq='h')\n",
      "INFO:pypsa.pf:Newton-Raphson solved in 0 iterations with error of 0.000001 in 0.000000 seconds\n",
      "INFO:pypsa.pf:Performing non-linear load-flow on AC sub-network SubNetwork 0 for snapshots DatetimeIndex(['2025-01-01 00:00:00'], dtype='datetime64[ns]', name='snapshot', freq='h')\n",
      "INFO:pypsa.pf:Newton-Raphson solved in 0 iterations with error of 0.000001 in 0.007127 seconds\n",
      "INFO:pypsa.pf:Performing non-linear load-flow on AC sub-network SubNetwork 0 for snapshots DatetimeIndex(['2025-01-01 00:00:00'], dtype='datetime64[ns]', name='snapshot', freq='h')\n",
      "INFO:pypsa.pf:Newton-Raphson solved in 0 iterations with error of 0.000001 in 0.010589 seconds\n",
      "INFO:pypsa.pf:Performing non-linear load-flow on AC sub-network SubNetwork 0 for snapshots DatetimeIndex(['2025-01-01 00:00:00'], dtype='datetime64[ns]', name='snapshot', freq='h')\n",
      "INFO:pypsa.pf:Newton-Raphson solved in 0 iterations with error of 0.000001 in 0.000000 seconds\n",
      "INFO:pypsa.pf:Performing non-linear load-flow on AC sub-network SubNetwork 0 for snapshots DatetimeIndex(['2025-01-01 00:00:00'], dtype='datetime64[ns]', name='snapshot', freq='h')\n",
      "INFO:pypsa.pf:Newton-Raphson solved in 0 iterations with error of 0.000001 in 0.000000 seconds\n",
      "INFO:pypsa.pf:Performing non-linear load-flow on AC sub-network SubNetwork 0 for snapshots DatetimeIndex(['2025-01-01 00:00:00'], dtype='datetime64[ns]', name='snapshot', freq='h')\n",
      "INFO:pypsa.pf:Newton-Raphson solved in 0 iterations with error of 0.000001 in 0.003235 seconds\n",
      "INFO:pypsa.pf:Performing non-linear load-flow on AC sub-network SubNetwork 0 for snapshots DatetimeIndex(['2025-01-01 00:00:00'], dtype='datetime64[ns]', name='snapshot', freq='h')\n",
      "INFO:pypsa.pf:Newton-Raphson solved in 0 iterations with error of 0.000001 in 0.004277 seconds\n",
      "INFO:pypsa.pf:Performing non-linear load-flow on AC sub-network SubNetwork 0 for snapshots DatetimeIndex(['2025-01-01 00:00:00'], dtype='datetime64[ns]', name='snapshot', freq='h')\n",
      "INFO:pypsa.pf:Newton-Raphson solved in 0 iterations with error of 0.000001 in 0.000000 seconds\n",
      "INFO:pypsa.pf:Performing non-linear load-flow on AC sub-network SubNetwork 0 for snapshots DatetimeIndex(['2025-01-01 00:00:00'], dtype='datetime64[ns]', name='snapshot', freq='h')\n",
      "INFO:pypsa.pf:Newton-Raphson solved in 0 iterations with error of 0.000001 in 0.000000 seconds\n",
      "INFO:pypsa.pf:Performing non-linear load-flow on AC sub-network SubNetwork 0 for snapshots DatetimeIndex(['2025-01-01 00:00:00'], dtype='datetime64[ns]', name='snapshot', freq='h')\n",
      "INFO:pypsa.pf:Newton-Raphson solved in 0 iterations with error of 0.000001 in 0.000000 seconds\n",
      "INFO:pypsa.pf:Performing non-linear load-flow on AC sub-network SubNetwork 0 for snapshots DatetimeIndex(['2025-01-01 00:00:00'], dtype='datetime64[ns]', name='snapshot', freq='h')\n",
      "INFO:pypsa.pf:Newton-Raphson solved in 0 iterations with error of 0.000001 in 0.000000 seconds\n",
      "INFO:pypsa.pf:Performing non-linear load-flow on AC sub-network SubNetwork 0 for snapshots DatetimeIndex(['2025-01-01 00:00:00'], dtype='datetime64[ns]', name='snapshot', freq='h')\n",
      "INFO:pypsa.pf:Newton-Raphson solved in 0 iterations with error of 0.000001 in 0.014529 seconds\n",
      "INFO:pypsa.pf:Performing non-linear load-flow on AC sub-network SubNetwork 0 for snapshots DatetimeIndex(['2025-01-01 00:00:00'], dtype='datetime64[ns]', name='snapshot', freq='h')\n",
      "INFO:pypsa.pf:Newton-Raphson solved in 0 iterations with error of 0.000001 in 0.000000 seconds\n",
      "INFO:pypsa.pf:Performing non-linear load-flow on AC sub-network SubNetwork 0 for snapshots DatetimeIndex(['2025-01-01 00:00:00'], dtype='datetime64[ns]', name='snapshot', freq='h')\n",
      "INFO:pypsa.pf:Newton-Raphson solved in 0 iterations with error of 0.000001 in 0.002012 seconds\n",
      "INFO:pypsa.pf:Performing non-linear load-flow on AC sub-network SubNetwork 0 for snapshots DatetimeIndex(['2025-01-01 00:00:00'], dtype='datetime64[ns]', name='snapshot', freq='h')\n",
      "INFO:pypsa.pf:Newton-Raphson solved in 0 iterations with error of 0.000001 in 0.000000 seconds\n",
      "INFO:pypsa.pf:Performing non-linear load-flow on AC sub-network SubNetwork 0 for snapshots DatetimeIndex(['2025-01-01 00:00:00'], dtype='datetime64[ns]', name='snapshot', freq='h')\n",
      "INFO:pypsa.pf:Newton-Raphson solved in 0 iterations with error of 0.000001 in 0.002648 seconds\n",
      "INFO:pypsa.pf:Performing non-linear load-flow on AC sub-network SubNetwork 0 for snapshots DatetimeIndex(['2025-01-01 00:00:00'], dtype='datetime64[ns]', name='snapshot', freq='h')\n",
      "INFO:pypsa.pf:Newton-Raphson solved in 0 iterations with error of 0.000001 in 0.000000 seconds\n",
      "INFO:pypsa.pf:Performing non-linear load-flow on AC sub-network SubNetwork 0 for snapshots DatetimeIndex(['2025-01-01 00:00:00'], dtype='datetime64[ns]', name='snapshot', freq='h')\n",
      "INFO:pypsa.pf:Newton-Raphson solved in 0 iterations with error of 0.000001 in 0.002005 seconds\n",
      "INFO:pypsa.pf:Performing non-linear load-flow on AC sub-network SubNetwork 0 for snapshots DatetimeIndex(['2025-01-01 00:00:00'], dtype='datetime64[ns]', name='snapshot', freq='h')\n",
      "INFO:pypsa.pf:Newton-Raphson solved in 0 iterations with error of 0.000001 in 0.000000 seconds\n",
      "INFO:pypsa.pf:Performing non-linear load-flow on AC sub-network SubNetwork 0 for snapshots DatetimeIndex(['2025-01-01 00:00:00'], dtype='datetime64[ns]', name='snapshot', freq='h')\n",
      "INFO:pypsa.pf:Newton-Raphson solved in 0 iterations with error of 0.000001 in 0.002494 seconds\n",
      "INFO:pypsa.pf:Performing non-linear load-flow on AC sub-network SubNetwork 0 for snapshots DatetimeIndex(['2025-01-01 00:00:00'], dtype='datetime64[ns]', name='snapshot', freq='h')\n",
      "INFO:pypsa.pf:Newton-Raphson solved in 0 iterations with error of 0.000001 in 0.000000 seconds\n",
      "INFO:pypsa.pf:Performing non-linear load-flow on AC sub-network SubNetwork 0 for snapshots DatetimeIndex(['2025-01-01 00:00:00'], dtype='datetime64[ns]', name='snapshot', freq='h')\n",
      "INFO:pypsa.pf:Newton-Raphson solved in 0 iterations with error of 0.000001 in 0.005100 seconds\n",
      "INFO:pypsa.pf:Performing non-linear load-flow on AC sub-network SubNetwork 0 for snapshots DatetimeIndex(['2025-01-01 00:00:00'], dtype='datetime64[ns]', name='snapshot', freq='h')\n",
      "INFO:pypsa.pf:Newton-Raphson solved in 0 iterations with error of 0.000001 in 0.000000 seconds\n",
      "INFO:pypsa.pf:Performing non-linear load-flow on AC sub-network SubNetwork 0 for snapshots DatetimeIndex(['2025-01-01 00:00:00'], dtype='datetime64[ns]', name='snapshot', freq='h')\n",
      "INFO:pypsa.pf:Newton-Raphson solved in 0 iterations with error of 0.000001 in 0.000000 seconds\n",
      "INFO:pypsa.pf:Performing non-linear load-flow on AC sub-network SubNetwork 0 for snapshots DatetimeIndex(['2025-01-01 00:00:00'], dtype='datetime64[ns]', name='snapshot', freq='h')\n",
      "INFO:pypsa.pf:Newton-Raphson solved in 0 iterations with error of 0.000001 in 0.002832 seconds\n",
      "INFO:pypsa.pf:Performing non-linear load-flow on AC sub-network SubNetwork 0 for snapshots DatetimeIndex(['2025-01-01 00:00:00'], dtype='datetime64[ns]', name='snapshot', freq='h')\n",
      "INFO:pypsa.pf:Newton-Raphson solved in 0 iterations with error of 0.000001 in 0.002397 seconds\n",
      "INFO:pypsa.pf:Performing non-linear load-flow on AC sub-network SubNetwork 0 for snapshots DatetimeIndex(['2025-01-01 00:00:00'], dtype='datetime64[ns]', name='snapshot', freq='h')\n",
      "INFO:pypsa.pf:Newton-Raphson solved in 0 iterations with error of 0.000001 in 0.000000 seconds\n",
      "INFO:pypsa.pf:Performing non-linear load-flow on AC sub-network SubNetwork 0 for snapshots DatetimeIndex(['2025-01-01 00:00:00'], dtype='datetime64[ns]', name='snapshot', freq='h')\n",
      "INFO:pypsa.pf:Newton-Raphson solved in 0 iterations with error of 0.000001 in 0.000000 seconds\n",
      "INFO:pypsa.pf:Performing non-linear load-flow on AC sub-network SubNetwork 0 for snapshots DatetimeIndex(['2025-01-01 00:00:00'], dtype='datetime64[ns]', name='snapshot', freq='h')\n",
      "INFO:pypsa.pf:Newton-Raphson solved in 0 iterations with error of 0.000001 in 0.000000 seconds\n",
      "INFO:pypsa.pf:Performing non-linear load-flow on AC sub-network SubNetwork 0 for snapshots DatetimeIndex(['2025-01-01 00:00:00'], dtype='datetime64[ns]', name='snapshot', freq='h')\n",
      "INFO:pypsa.pf:Newton-Raphson solved in 0 iterations with error of 0.000001 in 0.000000 seconds\n",
      "INFO:pypsa.pf:Performing non-linear load-flow on AC sub-network SubNetwork 0 for snapshots DatetimeIndex(['2025-01-01 00:00:00'], dtype='datetime64[ns]', name='snapshot', freq='h')\n",
      "INFO:pypsa.pf:Newton-Raphson solved in 0 iterations with error of 0.000001 in 0.000000 seconds\n",
      "INFO:pypsa.pf:Performing non-linear load-flow on AC sub-network SubNetwork 0 for snapshots DatetimeIndex(['2025-01-01 00:00:00'], dtype='datetime64[ns]', name='snapshot', freq='h')\n",
      "INFO:pypsa.pf:Newton-Raphson solved in 0 iterations with error of 0.000001 in 0.000000 seconds\n",
      "INFO:pypsa.pf:Performing non-linear load-flow on AC sub-network SubNetwork 0 for snapshots DatetimeIndex(['2025-01-01 00:00:00'], dtype='datetime64[ns]', name='snapshot', freq='h')\n",
      "INFO:pypsa.pf:Newton-Raphson solved in 0 iterations with error of 0.000001 in 0.000000 seconds\n",
      "INFO:pypsa.pf:Performing non-linear load-flow on AC sub-network SubNetwork 0 for snapshots DatetimeIndex(['2025-01-01 00:00:00'], dtype='datetime64[ns]', name='snapshot', freq='h')\n",
      "INFO:pypsa.pf:Newton-Raphson solved in 0 iterations with error of 0.000001 in 0.002311 seconds\n",
      "INFO:pypsa.pf:Performing non-linear load-flow on AC sub-network SubNetwork 0 for snapshots DatetimeIndex(['2025-01-01 00:00:00'], dtype='datetime64[ns]', name='snapshot', freq='h')\n",
      "INFO:pypsa.pf:Newton-Raphson solved in 0 iterations with error of 0.000001 in 0.000000 seconds\n",
      "INFO:pypsa.pf:Performing non-linear load-flow on AC sub-network SubNetwork 0 for snapshots DatetimeIndex(['2025-01-01 00:00:00'], dtype='datetime64[ns]', name='snapshot', freq='h')\n",
      "INFO:pypsa.pf:Newton-Raphson solved in 0 iterations with error of 0.000001 in 0.002771 seconds\n",
      "INFO:pypsa.pf:Performing non-linear load-flow on AC sub-network SubNetwork 0 for snapshots DatetimeIndex(['2025-01-01 00:00:00'], dtype='datetime64[ns]', name='snapshot', freq='h')\n",
      "INFO:pypsa.pf:Newton-Raphson solved in 0 iterations with error of 0.000001 in 0.000000 seconds\n",
      "INFO:pypsa.pf:Performing non-linear load-flow on AC sub-network SubNetwork 0 for snapshots DatetimeIndex(['2025-01-01 00:00:00'], dtype='datetime64[ns]', name='snapshot', freq='h')\n",
      "INFO:pypsa.pf:Newton-Raphson solved in 0 iterations with error of 0.000001 in 0.002007 seconds\n",
      "INFO:pypsa.pf:Performing non-linear load-flow on AC sub-network SubNetwork 0 for snapshots DatetimeIndex(['2025-01-01 00:00:00'], dtype='datetime64[ns]', name='snapshot', freq='h')\n",
      "INFO:pypsa.pf:Newton-Raphson solved in 0 iterations with error of 0.000001 in 0.001487 seconds\n",
      "INFO:pypsa.pf:Performing non-linear load-flow on AC sub-network SubNetwork 0 for snapshots DatetimeIndex(['2025-01-01 00:00:00'], dtype='datetime64[ns]', name='snapshot', freq='h')\n",
      "INFO:pypsa.pf:Newton-Raphson solved in 0 iterations with error of 0.000001 in 0.000000 seconds\n",
      "INFO:pypsa.pf:Performing non-linear load-flow on AC sub-network SubNetwork 0 for snapshots DatetimeIndex(['2025-01-01 00:00:00'], dtype='datetime64[ns]', name='snapshot', freq='h')\n",
      "INFO:pypsa.pf:Newton-Raphson solved in 0 iterations with error of 0.000001 in 0.004987 seconds\n",
      "INFO:pypsa.pf:Performing non-linear load-flow on AC sub-network SubNetwork 0 for snapshots DatetimeIndex(['2025-01-01 00:00:00'], dtype='datetime64[ns]', name='snapshot', freq='h')\n",
      "INFO:pypsa.pf:Newton-Raphson solved in 0 iterations with error of 0.000001 in 0.000000 seconds\n",
      "INFO:pypsa.pf:Performing non-linear load-flow on AC sub-network SubNetwork 0 for snapshots DatetimeIndex(['2025-01-01 00:00:00'], dtype='datetime64[ns]', name='snapshot', freq='h')\n",
      "INFO:pypsa.pf:Newton-Raphson solved in 0 iterations with error of 0.000001 in 0.000000 seconds\n",
      "INFO:pypsa.pf:Performing non-linear load-flow on AC sub-network SubNetwork 0 for snapshots DatetimeIndex(['2025-01-01 00:00:00'], dtype='datetime64[ns]', name='snapshot', freq='h')\n",
      "INFO:pypsa.pf:Newton-Raphson solved in 0 iterations with error of 0.000001 in 0.000000 seconds\n",
      "INFO:pypsa.pf:Performing non-linear load-flow on AC sub-network SubNetwork 0 for snapshots DatetimeIndex(['2025-01-01 00:00:00'], dtype='datetime64[ns]', name='snapshot', freq='h')\n",
      "INFO:pypsa.pf:Newton-Raphson solved in 0 iterations with error of 0.000001 in 0.014052 seconds\n",
      "INFO:pypsa.pf:Performing non-linear load-flow on AC sub-network SubNetwork 0 for snapshots DatetimeIndex(['2025-01-01 00:00:00'], dtype='datetime64[ns]', name='snapshot', freq='h')\n",
      "INFO:pypsa.pf:Newton-Raphson solved in 0 iterations with error of 0.000001 in 0.002188 seconds\n",
      "INFO:pypsa.pf:Performing non-linear load-flow on AC sub-network SubNetwork 0 for snapshots DatetimeIndex(['2025-01-01 00:00:00'], dtype='datetime64[ns]', name='snapshot', freq='h')\n",
      "INFO:pypsa.pf:Newton-Raphson solved in 0 iterations with error of 0.000001 in 0.000000 seconds\n",
      "INFO:pypsa.pf:Performing non-linear load-flow on AC sub-network SubNetwork 0 for snapshots DatetimeIndex(['2025-01-01 00:00:00'], dtype='datetime64[ns]', name='snapshot', freq='h')\n",
      "INFO:pypsa.pf:Newton-Raphson solved in 0 iterations with error of 0.000001 in 0.000000 seconds\n",
      "INFO:pypsa.pf:Performing non-linear load-flow on AC sub-network SubNetwork 0 for snapshots DatetimeIndex(['2025-01-01 00:00:00'], dtype='datetime64[ns]', name='snapshot', freq='h')\n",
      "INFO:pypsa.pf:Newton-Raphson solved in 0 iterations with error of 0.000001 in 0.003561 seconds\n",
      "INFO:pypsa.pf:Performing non-linear load-flow on AC sub-network SubNetwork 0 for snapshots DatetimeIndex(['2025-01-01 00:00:00'], dtype='datetime64[ns]', name='snapshot', freq='h')\n",
      "INFO:pypsa.pf:Newton-Raphson solved in 0 iterations with error of 0.000001 in 0.002565 seconds\n",
      "INFO:pypsa.pf:Performing non-linear load-flow on AC sub-network SubNetwork 0 for snapshots DatetimeIndex(['2025-01-01 00:00:00'], dtype='datetime64[ns]', name='snapshot', freq='h')\n",
      "INFO:pypsa.pf:Newton-Raphson solved in 0 iterations with error of 0.000001 in 0.000000 seconds\n",
      "INFO:pypsa.pf:Performing non-linear load-flow on AC sub-network SubNetwork 0 for snapshots DatetimeIndex(['2025-01-01 00:00:00'], dtype='datetime64[ns]', name='snapshot', freq='h')\n",
      "INFO:pypsa.pf:Newton-Raphson solved in 0 iterations with error of 0.000001 in 0.008323 seconds\n",
      "INFO:pypsa.pf:Performing non-linear load-flow on AC sub-network SubNetwork 0 for snapshots DatetimeIndex(['2025-01-01 00:00:00'], dtype='datetime64[ns]', name='snapshot', freq='h')\n",
      "INFO:pypsa.pf:Newton-Raphson solved in 0 iterations with error of 0.000001 in 0.000000 seconds\n",
      "INFO:pypsa.pf:Performing non-linear load-flow on AC sub-network SubNetwork 0 for snapshots DatetimeIndex(['2025-01-01 00:00:00'], dtype='datetime64[ns]', name='snapshot', freq='h')\n",
      "INFO:pypsa.pf:Newton-Raphson solved in 0 iterations with error of 0.000001 in 0.000000 seconds\n",
      "INFO:pypsa.pf:Performing non-linear load-flow on AC sub-network SubNetwork 0 for snapshots DatetimeIndex(['2025-01-01 00:00:00'], dtype='datetime64[ns]', name='snapshot', freq='h')\n",
      "INFO:pypsa.pf:Newton-Raphson solved in 0 iterations with error of 0.000001 in 0.000000 seconds\n",
      "INFO:pypsa.pf:Performing non-linear load-flow on AC sub-network SubNetwork 0 for snapshots DatetimeIndex(['2025-01-01 00:00:00'], dtype='datetime64[ns]', name='snapshot', freq='h')\n",
      "INFO:pypsa.pf:Newton-Raphson solved in 0 iterations with error of 0.000001 in 0.006052 seconds\n",
      "INFO:pypsa.pf:Performing non-linear load-flow on AC sub-network SubNetwork 0 for snapshots DatetimeIndex(['2025-01-01 00:00:00'], dtype='datetime64[ns]', name='snapshot', freq='h')\n",
      "INFO:pypsa.pf:Newton-Raphson solved in 0 iterations with error of 0.000001 in 0.000000 seconds\n",
      "INFO:pypsa.pf:Performing non-linear load-flow on AC sub-network SubNetwork 0 for snapshots DatetimeIndex(['2025-01-01 00:00:00'], dtype='datetime64[ns]', name='snapshot', freq='h')\n",
      "INFO:pypsa.pf:Newton-Raphson solved in 0 iterations with error of 0.000001 in 0.000000 seconds\n",
      "INFO:pypsa.pf:Performing non-linear load-flow on AC sub-network SubNetwork 0 for snapshots DatetimeIndex(['2025-01-01 00:00:00'], dtype='datetime64[ns]', name='snapshot', freq='h')\n",
      "INFO:pypsa.pf:Newton-Raphson solved in 0 iterations with error of 0.000001 in 0.000000 seconds\n",
      "INFO:pypsa.pf:Performing non-linear load-flow on AC sub-network SubNetwork 0 for snapshots DatetimeIndex(['2025-01-01 00:00:00'], dtype='datetime64[ns]', name='snapshot', freq='h')\n",
      "INFO:pypsa.pf:Newton-Raphson solved in 0 iterations with error of 0.000001 in 0.000000 seconds\n",
      "INFO:pypsa.pf:Performing non-linear load-flow on AC sub-network SubNetwork 0 for snapshots DatetimeIndex(['2025-01-01 00:00:00'], dtype='datetime64[ns]', name='snapshot', freq='h')\n",
      "INFO:pypsa.pf:Newton-Raphson solved in 0 iterations with error of 0.000001 in 0.000000 seconds\n",
      "INFO:pypsa.pf:Performing non-linear load-flow on AC sub-network SubNetwork 0 for snapshots DatetimeIndex(['2025-01-01 00:00:00'], dtype='datetime64[ns]', name='snapshot', freq='h')\n",
      "INFO:pypsa.pf:Newton-Raphson solved in 0 iterations with error of 0.000001 in 0.000000 seconds\n",
      "INFO:pypsa.pf:Performing non-linear load-flow on AC sub-network SubNetwork 0 for snapshots DatetimeIndex(['2025-01-01 00:00:00'], dtype='datetime64[ns]', name='snapshot', freq='h')\n",
      "INFO:pypsa.pf:Newton-Raphson solved in 0 iterations with error of 0.000001 in 0.000000 seconds\n",
      "INFO:pypsa.pf:Performing non-linear load-flow on AC sub-network SubNetwork 0 for snapshots DatetimeIndex(['2025-01-01 00:00:00'], dtype='datetime64[ns]', name='snapshot', freq='h')\n",
      "INFO:pypsa.pf:Newton-Raphson solved in 0 iterations with error of 0.000001 in 0.006022 seconds\n",
      "INFO:pypsa.pf:Performing non-linear load-flow on AC sub-network SubNetwork 0 for snapshots DatetimeIndex(['2025-01-01 00:00:00'], dtype='datetime64[ns]', name='snapshot', freq='h')\n",
      "INFO:pypsa.pf:Newton-Raphson solved in 0 iterations with error of 0.000001 in 0.000000 seconds\n",
      "INFO:pypsa.pf:Performing non-linear load-flow on AC sub-network SubNetwork 0 for snapshots DatetimeIndex(['2025-01-01 00:00:00'], dtype='datetime64[ns]', name='snapshot', freq='h')\n",
      "INFO:pypsa.pf:Newton-Raphson solved in 0 iterations with error of 0.000001 in 0.008203 seconds\n",
      "INFO:pypsa.pf:Performing non-linear load-flow on AC sub-network SubNetwork 0 for snapshots DatetimeIndex(['2025-01-01 00:00:00'], dtype='datetime64[ns]', name='snapshot', freq='h')\n",
      "INFO:pypsa.pf:Newton-Raphson solved in 0 iterations with error of 0.000001 in 0.002026 seconds\n",
      "INFO:pypsa.pf:Performing non-linear load-flow on AC sub-network SubNetwork 0 for snapshots DatetimeIndex(['2025-01-01 00:00:00'], dtype='datetime64[ns]', name='snapshot', freq='h')\n",
      "INFO:pypsa.pf:Newton-Raphson solved in 0 iterations with error of 0.000001 in 0.004555 seconds\n",
      "INFO:pypsa.pf:Performing non-linear load-flow on AC sub-network SubNetwork 0 for snapshots DatetimeIndex(['2025-01-01 00:00:00'], dtype='datetime64[ns]', name='snapshot', freq='h')\n",
      "INFO:pypsa.pf:Newton-Raphson solved in 0 iterations with error of 0.000001 in 0.000000 seconds\n",
      "INFO:pypsa.pf:Performing non-linear load-flow on AC sub-network SubNetwork 0 for snapshots DatetimeIndex(['2025-01-01 00:00:00'], dtype='datetime64[ns]', name='snapshot', freq='h')\n",
      "INFO:pypsa.pf:Newton-Raphson solved in 0 iterations with error of 0.000001 in 0.008154 seconds\n",
      "INFO:pypsa.pf:Performing non-linear load-flow on AC sub-network SubNetwork 0 for snapshots DatetimeIndex(['2025-01-01 00:00:00'], dtype='datetime64[ns]', name='snapshot', freq='h')\n",
      "INFO:pypsa.pf:Newton-Raphson solved in 0 iterations with error of 0.000001 in 0.000000 seconds\n",
      "INFO:pypsa.pf:Performing non-linear load-flow on AC sub-network SubNetwork 0 for snapshots DatetimeIndex(['2025-01-01 00:00:00'], dtype='datetime64[ns]', name='snapshot', freq='h')\n",
      "INFO:pypsa.pf:Newton-Raphson solved in 0 iterations with error of 0.000001 in 0.003023 seconds\n",
      "INFO:pypsa.pf:Performing non-linear load-flow on AC sub-network SubNetwork 0 for snapshots DatetimeIndex(['2025-01-01 00:00:00'], dtype='datetime64[ns]', name='snapshot', freq='h')\n",
      "INFO:pypsa.pf:Newton-Raphson solved in 0 iterations with error of 0.000001 in 0.000000 seconds\n",
      "INFO:pypsa.pf:Performing non-linear load-flow on AC sub-network SubNetwork 0 for snapshots DatetimeIndex(['2025-01-01 00:00:00'], dtype='datetime64[ns]', name='snapshot', freq='h')\n",
      "INFO:pypsa.pf:Newton-Raphson solved in 0 iterations with error of 0.000001 in 0.005955 seconds\n",
      "INFO:pypsa.pf:Performing non-linear load-flow on AC sub-network SubNetwork 0 for snapshots DatetimeIndex(['2025-01-01 00:00:00'], dtype='datetime64[ns]', name='snapshot', freq='h')\n",
      "INFO:pypsa.pf:Newton-Raphson solved in 0 iterations with error of 0.000001 in 0.003253 seconds\n",
      "INFO:pypsa.pf:Performing non-linear load-flow on AC sub-network SubNetwork 0 for snapshots DatetimeIndex(['2025-01-01 00:00:00'], dtype='datetime64[ns]', name='snapshot', freq='h')\n",
      "INFO:pypsa.pf:Newton-Raphson solved in 0 iterations with error of 0.000001 in 0.000000 seconds\n",
      "INFO:pypsa.pf:Performing non-linear load-flow on AC sub-network SubNetwork 0 for snapshots DatetimeIndex(['2025-01-01 00:00:00'], dtype='datetime64[ns]', name='snapshot', freq='h')\n",
      "INFO:pypsa.pf:Newton-Raphson solved in 0 iterations with error of 0.000001 in 0.004455 seconds\n",
      "INFO:pypsa.pf:Performing non-linear load-flow on AC sub-network SubNetwork 0 for snapshots DatetimeIndex(['2025-01-01 00:00:00'], dtype='datetime64[ns]', name='snapshot', freq='h')\n",
      "INFO:pypsa.pf:Newton-Raphson solved in 0 iterations with error of 0.000001 in 0.002009 seconds\n",
      "INFO:pypsa.pf:Performing non-linear load-flow on AC sub-network SubNetwork 0 for snapshots DatetimeIndex(['2025-01-01 00:00:00'], dtype='datetime64[ns]', name='snapshot', freq='h')\n",
      "INFO:pypsa.pf:Newton-Raphson solved in 0 iterations with error of 0.000001 in 0.013131 seconds\n",
      "INFO:pypsa.pf:Performing non-linear load-flow on AC sub-network SubNetwork 0 for snapshots DatetimeIndex(['2025-01-01 00:00:00'], dtype='datetime64[ns]', name='snapshot', freq='h')\n",
      "INFO:pypsa.pf:Newton-Raphson solved in 0 iterations with error of 0.000001 in 0.000000 seconds\n",
      "INFO:pypsa.pf:Performing non-linear load-flow on AC sub-network SubNetwork 0 for snapshots DatetimeIndex(['2025-01-01 00:00:00'], dtype='datetime64[ns]', name='snapshot', freq='h')\n",
      "INFO:pypsa.pf:Newton-Raphson solved in 0 iterations with error of 0.000001 in 0.000000 seconds\n",
      "INFO:pypsa.pf:Performing non-linear load-flow on AC sub-network SubNetwork 0 for snapshots DatetimeIndex(['2025-01-01 00:00:00'], dtype='datetime64[ns]', name='snapshot', freq='h')\n",
      "INFO:pypsa.pf:Newton-Raphson solved in 0 iterations with error of 0.000001 in 0.000000 seconds\n",
      "INFO:pypsa.pf:Performing non-linear load-flow on AC sub-network SubNetwork 0 for snapshots DatetimeIndex(['2025-01-01 00:00:00'], dtype='datetime64[ns]', name='snapshot', freq='h')\n",
      "INFO:pypsa.pf:Newton-Raphson solved in 0 iterations with error of 0.000001 in 0.005928 seconds\n",
      "INFO:pypsa.pf:Performing non-linear load-flow on AC sub-network SubNetwork 0 for snapshots DatetimeIndex(['2025-01-01 00:00:00'], dtype='datetime64[ns]', name='snapshot', freq='h')\n",
      "INFO:pypsa.pf:Newton-Raphson solved in 0 iterations with error of 0.000001 in 0.000000 seconds\n",
      "INFO:pypsa.pf:Performing non-linear load-flow on AC sub-network SubNetwork 0 for snapshots DatetimeIndex(['2025-01-01 00:00:00'], dtype='datetime64[ns]', name='snapshot', freq='h')\n",
      "INFO:pypsa.pf:Newton-Raphson solved in 0 iterations with error of 0.000001 in 0.000000 seconds\n",
      "INFO:pypsa.pf:Performing non-linear load-flow on AC sub-network SubNetwork 0 for snapshots DatetimeIndex(['2025-01-01 00:00:00'], dtype='datetime64[ns]', name='snapshot', freq='h')\n",
      "INFO:pypsa.pf:Newton-Raphson solved in 0 iterations with error of 0.000001 in 0.002008 seconds\n",
      "INFO:pypsa.pf:Performing non-linear load-flow on AC sub-network SubNetwork 0 for snapshots DatetimeIndex(['2025-01-01 00:00:00'], dtype='datetime64[ns]', name='snapshot', freq='h')\n",
      "INFO:pypsa.pf:Newton-Raphson solved in 0 iterations with error of 0.000001 in 0.005381 seconds\n",
      "INFO:pypsa.pf:Performing non-linear load-flow on AC sub-network SubNetwork 0 for snapshots DatetimeIndex(['2025-01-01 00:00:00'], dtype='datetime64[ns]', name='snapshot', freq='h')\n",
      "INFO:pypsa.pf:Newton-Raphson solved in 0 iterations with error of 0.000001 in 0.000000 seconds\n",
      "INFO:pypsa.pf:Performing non-linear load-flow on AC sub-network SubNetwork 0 for snapshots DatetimeIndex(['2025-01-01 00:00:00'], dtype='datetime64[ns]', name='snapshot', freq='h')\n",
      "INFO:pypsa.pf:Newton-Raphson solved in 0 iterations with error of 0.000001 in 0.012506 seconds\n",
      "INFO:pypsa.pf:Performing non-linear load-flow on AC sub-network SubNetwork 0 for snapshots DatetimeIndex(['2025-01-01 00:00:00'], dtype='datetime64[ns]', name='snapshot', freq='h')\n",
      "INFO:pypsa.pf:Newton-Raphson solved in 0 iterations with error of 0.000001 in 0.000000 seconds\n",
      "INFO:pypsa.pf:Performing non-linear load-flow on AC sub-network SubNetwork 0 for snapshots DatetimeIndex(['2025-01-01 00:00:00'], dtype='datetime64[ns]', name='snapshot', freq='h')\n",
      "INFO:pypsa.pf:Newton-Raphson solved in 0 iterations with error of 0.000001 in 0.000000 seconds\n",
      "INFO:pypsa.pf:Performing non-linear load-flow on AC sub-network SubNetwork 0 for snapshots DatetimeIndex(['2025-01-01 00:00:00'], dtype='datetime64[ns]', name='snapshot', freq='h')\n",
      "INFO:pypsa.pf:Newton-Raphson solved in 0 iterations with error of 0.000001 in 0.000000 seconds\n",
      "INFO:pypsa.pf:Performing non-linear load-flow on AC sub-network SubNetwork 0 for snapshots DatetimeIndex(['2025-01-01 00:00:00'], dtype='datetime64[ns]', name='snapshot', freq='h')\n",
      "INFO:pypsa.pf:Newton-Raphson solved in 0 iterations with error of 0.000001 in 0.000000 seconds\n",
      "INFO:pypsa.pf:Performing non-linear load-flow on AC sub-network SubNetwork 0 for snapshots DatetimeIndex(['2025-01-01 00:00:00'], dtype='datetime64[ns]', name='snapshot', freq='h')\n",
      "INFO:pypsa.pf:Newton-Raphson solved in 0 iterations with error of 0.000001 in 0.000000 seconds\n",
      "INFO:pypsa.pf:Performing non-linear load-flow on AC sub-network SubNetwork 0 for snapshots DatetimeIndex(['2025-01-01 00:00:00'], dtype='datetime64[ns]', name='snapshot', freq='h')\n",
      "INFO:pypsa.pf:Newton-Raphson solved in 0 iterations with error of 0.000001 in 0.000000 seconds\n",
      "INFO:pypsa.pf:Performing non-linear load-flow on AC sub-network SubNetwork 0 for snapshots DatetimeIndex(['2025-01-01 00:00:00'], dtype='datetime64[ns]', name='snapshot', freq='h')\n",
      "INFO:pypsa.pf:Newton-Raphson solved in 0 iterations with error of 0.000001 in 0.013059 seconds\n",
      "INFO:pypsa.pf:Performing non-linear load-flow on AC sub-network SubNetwork 0 for snapshots DatetimeIndex(['2025-01-01 00:00:00'], dtype='datetime64[ns]', name='snapshot', freq='h')\n",
      "INFO:pypsa.pf:Newton-Raphson solved in 0 iterations with error of 0.000001 in 0.000000 seconds\n"
     ]
    },
    {
     "name": "stdout",
     "output_type": "stream",
     "text": [
      "GNN Inference Time: 4.51 ± 6.66 ms\n",
      "Traditional PF Time: 173.76 ± 60.14 ms\n",
      "Speedup: 38.56x\n"
     ]
    },
    {
     "data": {
      "image/png": "[encoded data removed]",
      "text/plain": [
       "<Figure size 1000x600 with 1 Axes>"
      ]
     },
     "metadata": {},
     "output_type": "display_data"
    }
   ],
   "source": [
    "# Generate training data\n",
    "#networks = generate_training_data(n, num_scenarios=50, steps_per_scenario=15)\n",
    "\n",
    "# Train the model\n",
    "model, losses = train_power_flow_gnn(networks, num_epochs=100)\n",
    "\n",
    "# Create a test network with different parameters\n",
    "test_network = create_9_bus_network(steps=1, p_set_gen2=175, p_set_gen3=95, plot=False)\n",
    "test_network.pf(use_seed=True)\n",
    "\n",
    "# Evaluate the model\n",
    "results = evaluate_model(model, test_network)\n",
    "\n",
    "# Visualize results\n",
    "visualize_results(results, test_network)\n",
    "\n",
    "# Compare execution time\n",
    "compare_execution_time(model, test_network)\n"
   ]
  }
 ],
 "metadata": {
  "kernelspec": {
   "display_name": ".venv",
   "language": "python",
   "name": "python3"
  },
  "language_info": {
   "codemirror_mode": {
    "name": "ipython",
    "version": 3
   },
   "file_extension": ".py",
   "mimetype": "text/x-python",
   "name": "python",
   "nbconvert_exporter": "python",
   "pygments_lexer": "ipython3",
   "version": "3.12.9"
  }
 },
 "nbformat": 4,
 "nbformat_minor": 5
}
